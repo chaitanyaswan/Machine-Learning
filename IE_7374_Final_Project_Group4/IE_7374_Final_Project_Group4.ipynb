{
  "nbformat": 4,
  "nbformat_minor": 0,
  "metadata": {
    "colab": {
      "name": "IE_7374_Final_Project_Group4.ipynb",
      "provenance": [],
      "collapsed_sections": [],
      "toc_visible": true
    },
    "kernelspec": {
      "display_name": "Python 3",
      "language": "python",
      "name": "python3"
    },
    "language_info": {
      "codemirror_mode": {
        "name": "ipython",
        "version": 3
      },
      "file_extension": ".py",
      "mimetype": "text/x-python",
      "name": "python",
      "nbconvert_exporter": "python",
      "pygments_lexer": "ipython3",
      "version": "3.8.5"
    }
  },
  "cells": [
    {
      "cell_type": "markdown",
      "source": [
        "# Import Libraries"
      ],
      "metadata": {
        "id": "ALNEKUJcm91M"
      }
    },
    {
      "cell_type": "code",
      "metadata": {
        "id": "x_hx4FexMjbs"
      },
      "source": [
        "import pandas as pd\n",
        "import seaborn as sns\n",
        "import numpy as np\n",
        "import matplotlib.pyplot as plt\n",
        "import time\n",
        "import warnings\n",
        "from tqdm import tqdm\n",
        "warnings.filterwarnings(\"ignore\", category=FutureWarning)\n",
        "from sklearn.model_selection import train_test_split\n",
        "from scipy import optimize\n",
        "from scipy.stats import norm\n",
        "from scipy.stats import mode"
      ],
      "execution_count": 1,
      "outputs": []
    },
    {
      "cell_type": "markdown",
      "source": [
        "# Read File"
      ],
      "metadata": {
        "id": "Qeh7jTUd2TfO"
      }
    },
    {
      "cell_type": "code",
      "metadata": {
        "colab": {
          "resources": {
            "http://localhost:8080/nbextensions/google.colab/files.js": {
              "data": "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",
              "ok": true,
              "headers": [
                [
                  "content-type",
                  "application/javascript"
                ]
              ],
              "status": 200,
              "status_text": ""
            }
          },
          "base_uri": "https://localhost:8080/",
          "height": 72
        },
        "id": "x4w_wStaL4Ji",
        "outputId": "24f3f367-7866-49af-dc45-23d242904ec8"
      },
      "source": [
        "from google.colab import files\n",
        "df=files.upload()"
      ],
      "execution_count": 2,
      "outputs": [
        {
          "output_type": "display_data",
          "data": {
            "text/html": [
              "\n",
              "     <input type=\"file\" id=\"files-811808bc-8301-47b1-848e-45c6175654bd\" name=\"files[]\" multiple disabled\n",
              "        style=\"border:none\" />\n",
              "     <output id=\"result-811808bc-8301-47b1-848e-45c6175654bd\">\n",
              "      Upload widget is only available when the cell has been executed in the\n",
              "      current browser session. Please rerun this cell to enable.\n",
              "      </output>\n",
              "      <script src=\"/nbextensions/google.colab/files.js\"></script> "
            ],
            "text/plain": [
              "<IPython.core.display.HTML object>"
            ]
          },
          "metadata": {}
        },
        {
          "output_type": "stream",
          "name": "stdout",
          "text": [
            "Saving HCV-Egy-Data.csv to HCV-Egy-Data.csv\n"
          ]
        }
      ]
    },
    {
      "cell_type": "code",
      "metadata": {
        "colab": {
          "base_uri": "https://localhost:8080/",
          "height": 476
        },
        "id": "NVYSoy1NsvVr",
        "outputId": "4b355880-1e89-4539-dc81-06d7137b47e1"
      },
      "source": [
        "# Assigning dataset to a dataframe\n",
        "df_hcv = pd.read_csv('HCV-Egy-Data.csv')\n",
        "df_hcv"
      ],
      "execution_count": 3,
      "outputs": [
        {
          "output_type": "execute_result",
          "data": {
            "text/html": [
              "<div>\n",
              "<style scoped>\n",
              "    .dataframe tbody tr th:only-of-type {\n",
              "        vertical-align: middle;\n",
              "    }\n",
              "\n",
              "    .dataframe tbody tr th {\n",
              "        vertical-align: top;\n",
              "    }\n",
              "\n",
              "    .dataframe thead th {\n",
              "        text-align: right;\n",
              "    }\n",
              "</style>\n",
              "<table border=\"1\" class=\"dataframe\">\n",
              "  <thead>\n",
              "    <tr style=\"text-align: right;\">\n",
              "      <th></th>\n",
              "      <th>Age</th>\n",
              "      <th>Gender</th>\n",
              "      <th>BMI</th>\n",
              "      <th>Fever</th>\n",
              "      <th>Nausea/Vomting</th>\n",
              "      <th>Headache</th>\n",
              "      <th>Diarrhea</th>\n",
              "      <th>Fatigue &amp; generalized bone ache</th>\n",
              "      <th>Jaundice</th>\n",
              "      <th>Epigastric pain</th>\n",
              "      <th>WBC</th>\n",
              "      <th>RBC</th>\n",
              "      <th>HGB</th>\n",
              "      <th>Plat</th>\n",
              "      <th>AST 1</th>\n",
              "      <th>ALT 1</th>\n",
              "      <th>ALT4</th>\n",
              "      <th>ALT 12</th>\n",
              "      <th>ALT 24</th>\n",
              "      <th>ALT 36</th>\n",
              "      <th>ALT 48</th>\n",
              "      <th>ALT after 24 w</th>\n",
              "      <th>RNA Base</th>\n",
              "      <th>RNA 4</th>\n",
              "      <th>RNA 12</th>\n",
              "      <th>RNA EOT</th>\n",
              "      <th>RNA EF</th>\n",
              "      <th>Baseline histological Grading</th>\n",
              "      <th>Baselinehistological staging</th>\n",
              "    </tr>\n",
              "  </thead>\n",
              "  <tbody>\n",
              "    <tr>\n",
              "      <th>0</th>\n",
              "      <td>56</td>\n",
              "      <td>1</td>\n",
              "      <td>35</td>\n",
              "      <td>2</td>\n",
              "      <td>1</td>\n",
              "      <td>1</td>\n",
              "      <td>1</td>\n",
              "      <td>2</td>\n",
              "      <td>2</td>\n",
              "      <td>2</td>\n",
              "      <td>7425</td>\n",
              "      <td>4248807.0</td>\n",
              "      <td>14</td>\n",
              "      <td>112132.0</td>\n",
              "      <td>99</td>\n",
              "      <td>84</td>\n",
              "      <td>52.0</td>\n",
              "      <td>109</td>\n",
              "      <td>81</td>\n",
              "      <td>5</td>\n",
              "      <td>5</td>\n",
              "      <td>5</td>\n",
              "      <td>655330</td>\n",
              "      <td>634536</td>\n",
              "      <td>288194</td>\n",
              "      <td>5</td>\n",
              "      <td>5</td>\n",
              "      <td>13</td>\n",
              "      <td>2</td>\n",
              "    </tr>\n",
              "    <tr>\n",
              "      <th>1</th>\n",
              "      <td>46</td>\n",
              "      <td>1</td>\n",
              "      <td>29</td>\n",
              "      <td>1</td>\n",
              "      <td>2</td>\n",
              "      <td>2</td>\n",
              "      <td>1</td>\n",
              "      <td>2</td>\n",
              "      <td>2</td>\n",
              "      <td>1</td>\n",
              "      <td>12101</td>\n",
              "      <td>4429425.0</td>\n",
              "      <td>10</td>\n",
              "      <td>129367.0</td>\n",
              "      <td>91</td>\n",
              "      <td>123</td>\n",
              "      <td>95.0</td>\n",
              "      <td>75</td>\n",
              "      <td>113</td>\n",
              "      <td>57</td>\n",
              "      <td>123</td>\n",
              "      <td>44</td>\n",
              "      <td>40620</td>\n",
              "      <td>538635</td>\n",
              "      <td>637056</td>\n",
              "      <td>336804</td>\n",
              "      <td>31085</td>\n",
              "      <td>4</td>\n",
              "      <td>2</td>\n",
              "    </tr>\n",
              "    <tr>\n",
              "      <th>2</th>\n",
              "      <td>57</td>\n",
              "      <td>1</td>\n",
              "      <td>33</td>\n",
              "      <td>2</td>\n",
              "      <td>2</td>\n",
              "      <td>2</td>\n",
              "      <td>2</td>\n",
              "      <td>1</td>\n",
              "      <td>1</td>\n",
              "      <td>1</td>\n",
              "      <td>4178</td>\n",
              "      <td>4621191.0</td>\n",
              "      <td>12</td>\n",
              "      <td>151522.0</td>\n",
              "      <td>113</td>\n",
              "      <td>49</td>\n",
              "      <td>95.0</td>\n",
              "      <td>107</td>\n",
              "      <td>116</td>\n",
              "      <td>5</td>\n",
              "      <td>5</td>\n",
              "      <td>5</td>\n",
              "      <td>571148</td>\n",
              "      <td>661346</td>\n",
              "      <td>5</td>\n",
              "      <td>735945</td>\n",
              "      <td>558829</td>\n",
              "      <td>4</td>\n",
              "      <td>4</td>\n",
              "    </tr>\n",
              "    <tr>\n",
              "      <th>3</th>\n",
              "      <td>49</td>\n",
              "      <td>2</td>\n",
              "      <td>33</td>\n",
              "      <td>1</td>\n",
              "      <td>2</td>\n",
              "      <td>1</td>\n",
              "      <td>2</td>\n",
              "      <td>1</td>\n",
              "      <td>2</td>\n",
              "      <td>1</td>\n",
              "      <td>6490</td>\n",
              "      <td>4794631.0</td>\n",
              "      <td>10</td>\n",
              "      <td>146457.0</td>\n",
              "      <td>43</td>\n",
              "      <td>64</td>\n",
              "      <td>109.0</td>\n",
              "      <td>80</td>\n",
              "      <td>88</td>\n",
              "      <td>48</td>\n",
              "      <td>77</td>\n",
              "      <td>33</td>\n",
              "      <td>1041941</td>\n",
              "      <td>449939</td>\n",
              "      <td>585688</td>\n",
              "      <td>744463</td>\n",
              "      <td>582301</td>\n",
              "      <td>10</td>\n",
              "      <td>3</td>\n",
              "    </tr>\n",
              "    <tr>\n",
              "      <th>4</th>\n",
              "      <td>59</td>\n",
              "      <td>1</td>\n",
              "      <td>32</td>\n",
              "      <td>1</td>\n",
              "      <td>1</td>\n",
              "      <td>2</td>\n",
              "      <td>1</td>\n",
              "      <td>2</td>\n",
              "      <td>2</td>\n",
              "      <td>2</td>\n",
              "      <td>3661</td>\n",
              "      <td>4606375.0</td>\n",
              "      <td>11</td>\n",
              "      <td>187684.0</td>\n",
              "      <td>99</td>\n",
              "      <td>104</td>\n",
              "      <td>67.0</td>\n",
              "      <td>48</td>\n",
              "      <td>120</td>\n",
              "      <td>94</td>\n",
              "      <td>90</td>\n",
              "      <td>30</td>\n",
              "      <td>660410</td>\n",
              "      <td>738756</td>\n",
              "      <td>3731527</td>\n",
              "      <td>338946</td>\n",
              "      <td>242861</td>\n",
              "      <td>11</td>\n",
              "      <td>1</td>\n",
              "    </tr>\n",
              "    <tr>\n",
              "      <th>...</th>\n",
              "      <td>...</td>\n",
              "      <td>...</td>\n",
              "      <td>...</td>\n",
              "      <td>...</td>\n",
              "      <td>...</td>\n",
              "      <td>...</td>\n",
              "      <td>...</td>\n",
              "      <td>...</td>\n",
              "      <td>...</td>\n",
              "      <td>...</td>\n",
              "      <td>...</td>\n",
              "      <td>...</td>\n",
              "      <td>...</td>\n",
              "      <td>...</td>\n",
              "      <td>...</td>\n",
              "      <td>...</td>\n",
              "      <td>...</td>\n",
              "      <td>...</td>\n",
              "      <td>...</td>\n",
              "      <td>...</td>\n",
              "      <td>...</td>\n",
              "      <td>...</td>\n",
              "      <td>...</td>\n",
              "      <td>...</td>\n",
              "      <td>...</td>\n",
              "      <td>...</td>\n",
              "      <td>...</td>\n",
              "      <td>...</td>\n",
              "      <td>...</td>\n",
              "    </tr>\n",
              "    <tr>\n",
              "      <th>1380</th>\n",
              "      <td>44</td>\n",
              "      <td>1</td>\n",
              "      <td>29</td>\n",
              "      <td>1</td>\n",
              "      <td>2</td>\n",
              "      <td>2</td>\n",
              "      <td>2</td>\n",
              "      <td>1</td>\n",
              "      <td>1</td>\n",
              "      <td>1</td>\n",
              "      <td>7044</td>\n",
              "      <td>4957174.0</td>\n",
              "      <td>15</td>\n",
              "      <td>202520.0</td>\n",
              "      <td>122</td>\n",
              "      <td>59</td>\n",
              "      <td>78.0</td>\n",
              "      <td>106</td>\n",
              "      <td>127</td>\n",
              "      <td>63</td>\n",
              "      <td>44</td>\n",
              "      <td>45</td>\n",
              "      <td>387795</td>\n",
              "      <td>55938</td>\n",
              "      <td>5</td>\n",
              "      <td>5</td>\n",
              "      <td>5</td>\n",
              "      <td>15</td>\n",
              "      <td>4</td>\n",
              "    </tr>\n",
              "    <tr>\n",
              "      <th>1381</th>\n",
              "      <td>55</td>\n",
              "      <td>1</td>\n",
              "      <td>34</td>\n",
              "      <td>1</td>\n",
              "      <td>2</td>\n",
              "      <td>2</td>\n",
              "      <td>1</td>\n",
              "      <td>1</td>\n",
              "      <td>1</td>\n",
              "      <td>1</td>\n",
              "      <td>6207</td>\n",
              "      <td>4636951.0</td>\n",
              "      <td>10</td>\n",
              "      <td>115776.0</td>\n",
              "      <td>128</td>\n",
              "      <td>102</td>\n",
              "      <td>65.0</td>\n",
              "      <td>99</td>\n",
              "      <td>108</td>\n",
              "      <td>97</td>\n",
              "      <td>64</td>\n",
              "      <td>41</td>\n",
              "      <td>481378</td>\n",
              "      <td>152961</td>\n",
              "      <td>393339</td>\n",
              "      <td>73574</td>\n",
              "      <td>236273</td>\n",
              "      <td>10</td>\n",
              "      <td>2</td>\n",
              "    </tr>\n",
              "    <tr>\n",
              "      <th>1382</th>\n",
              "      <td>42</td>\n",
              "      <td>1</td>\n",
              "      <td>26</td>\n",
              "      <td>2</td>\n",
              "      <td>2</td>\n",
              "      <td>1</td>\n",
              "      <td>1</td>\n",
              "      <td>1</td>\n",
              "      <td>2</td>\n",
              "      <td>1</td>\n",
              "      <td>4913</td>\n",
              "      <td>4122038.0</td>\n",
              "      <td>14</td>\n",
              "      <td>128354.0</td>\n",
              "      <td>61</td>\n",
              "      <td>93</td>\n",
              "      <td>123.0</td>\n",
              "      <td>61</td>\n",
              "      <td>116</td>\n",
              "      <td>87</td>\n",
              "      <td>39</td>\n",
              "      <td>24</td>\n",
              "      <td>612664</td>\n",
              "      <td>572756</td>\n",
              "      <td>806109</td>\n",
              "      <td>343719</td>\n",
              "      <td>160457</td>\n",
              "      <td>6</td>\n",
              "      <td>2</td>\n",
              "    </tr>\n",
              "    <tr>\n",
              "      <th>1383</th>\n",
              "      <td>52</td>\n",
              "      <td>1</td>\n",
              "      <td>29</td>\n",
              "      <td>2</td>\n",
              "      <td>1</td>\n",
              "      <td>1</td>\n",
              "      <td>2</td>\n",
              "      <td>2</td>\n",
              "      <td>2</td>\n",
              "      <td>1</td>\n",
              "      <td>7257</td>\n",
              "      <td>4241990.0</td>\n",
              "      <td>10</td>\n",
              "      <td>205908.0</td>\n",
              "      <td>70</td>\n",
              "      <td>97</td>\n",
              "      <td>104.0</td>\n",
              "      <td>74</td>\n",
              "      <td>47</td>\n",
              "      <td>48</td>\n",
              "      <td>81</td>\n",
              "      <td>43</td>\n",
              "      <td>139872</td>\n",
              "      <td>76161</td>\n",
              "      <td>515730</td>\n",
              "      <td>2460</td>\n",
              "      <td>696074</td>\n",
              "      <td>15</td>\n",
              "      <td>3</td>\n",
              "    </tr>\n",
              "    <tr>\n",
              "      <th>1384</th>\n",
              "      <td>55</td>\n",
              "      <td>2</td>\n",
              "      <td>26</td>\n",
              "      <td>1</td>\n",
              "      <td>2</td>\n",
              "      <td>2</td>\n",
              "      <td>2</td>\n",
              "      <td>1</td>\n",
              "      <td>2</td>\n",
              "      <td>1</td>\n",
              "      <td>11832</td>\n",
              "      <td>4059176.0</td>\n",
              "      <td>14</td>\n",
              "      <td>136615.0</td>\n",
              "      <td>51</td>\n",
              "      <td>126</td>\n",
              "      <td>39.0</td>\n",
              "      <td>68</td>\n",
              "      <td>115</td>\n",
              "      <td>64</td>\n",
              "      <td>71</td>\n",
              "      <td>34</td>\n",
              "      <td>1190577</td>\n",
              "      <td>628730</td>\n",
              "      <td>5</td>\n",
              "      <td>5</td>\n",
              "      <td>5</td>\n",
              "      <td>13</td>\n",
              "      <td>3</td>\n",
              "    </tr>\n",
              "  </tbody>\n",
              "</table>\n",
              "<p>1385 rows × 29 columns</p>\n",
              "</div>"
            ],
            "text/plain": [
              "      Age   Gender  ...  Baseline histological Grading  Baselinehistological staging\n",
              "0       56       1  ...                             13                             2\n",
              "1       46       1  ...                              4                             2\n",
              "2       57       1  ...                              4                             4\n",
              "3       49       2  ...                             10                             3\n",
              "4       59       1  ...                             11                             1\n",
              "...    ...     ...  ...                            ...                           ...\n",
              "1380    44       1  ...                             15                             4\n",
              "1381    55       1  ...                             10                             2\n",
              "1382    42       1  ...                              6                             2\n",
              "1383    52       1  ...                             15                             3\n",
              "1384    55       2  ...                             13                             3\n",
              "\n",
              "[1385 rows x 29 columns]"
            ]
          },
          "metadata": {},
          "execution_count": 3
        }
      ]
    },
    {
      "cell_type": "markdown",
      "source": [
        "# Univariate Analysis"
      ],
      "metadata": {
        "id": "6A2zuflSpF-E"
      }
    },
    {
      "cell_type": "code",
      "metadata": {
        "colab": {
          "base_uri": "https://localhost:8080/"
        },
        "id": "m6VPMFaGTsaf",
        "outputId": "301de451-c3e8-4419-bde6-051a98e68b32"
      },
      "source": [
        "#Printing column names \n",
        "df_hcv.columns"
      ],
      "execution_count": 4,
      "outputs": [
        {
          "output_type": "execute_result",
          "data": {
            "text/plain": [
              "Index(['Age ', 'Gender', 'BMI', 'Fever', 'Nausea/Vomting', 'Headache ',\n",
              "       'Diarrhea ', 'Fatigue & generalized bone ache ', 'Jaundice ',\n",
              "       'Epigastric pain ', 'WBC', 'RBC', 'HGB', 'Plat', 'AST 1', 'ALT 1',\n",
              "       'ALT4', 'ALT 12', 'ALT 24', 'ALT 36', 'ALT 48', 'ALT after 24 w',\n",
              "       'RNA Base', 'RNA 4', 'RNA 12', 'RNA EOT', 'RNA EF',\n",
              "       'Baseline histological Grading', 'Baselinehistological staging'],\n",
              "      dtype='object')"
            ]
          },
          "metadata": {},
          "execution_count": 4
        }
      ]
    },
    {
      "cell_type": "code",
      "metadata": {
        "colab": {
          "base_uri": "https://localhost:8080/"
        },
        "id": "zddNVHDkRqdl",
        "outputId": "0e69ee4c-1b18-4e70-89a3-295a6a2089c9"
      },
      "source": [
        "#Checking for null values\n",
        "df_hcv.isnull().sum() \n",
        "# No missing values identified in the dataset"
      ],
      "execution_count": 5,
      "outputs": [
        {
          "output_type": "execute_result",
          "data": {
            "text/plain": [
              "Age                                 0\n",
              "Gender                              0\n",
              "BMI                                 0\n",
              "Fever                               0\n",
              "Nausea/Vomting                      0\n",
              "Headache                            0\n",
              "Diarrhea                            0\n",
              "Fatigue & generalized bone ache     0\n",
              "Jaundice                            0\n",
              "Epigastric pain                     0\n",
              "WBC                                 0\n",
              "RBC                                 0\n",
              "HGB                                 0\n",
              "Plat                                0\n",
              "AST 1                               0\n",
              "ALT 1                               0\n",
              "ALT4                                0\n",
              "ALT 12                              0\n",
              "ALT 24                              0\n",
              "ALT 36                              0\n",
              "ALT 48                              0\n",
              "ALT after 24 w                      0\n",
              "RNA Base                            0\n",
              "RNA 4                               0\n",
              "RNA 12                              0\n",
              "RNA EOT                             0\n",
              "RNA EF                              0\n",
              "Baseline histological Grading       0\n",
              "Baselinehistological staging        0\n",
              "dtype: int64"
            ]
          },
          "metadata": {},
          "execution_count": 5
        }
      ]
    },
    {
      "cell_type": "code",
      "metadata": {
        "id": "zlt47n3EWHuq"
      },
      "source": [
        "#Checking for binary data columns\n",
        "binary_cols=['Gender', 'Fever', 'Nausea/Vomting', 'Headache ',\n",
        "       'Diarrhea ', 'Fatigue & generalized bone ache ', 'Jaundice ',\n",
        "       'Epigastric pain ']"
      ],
      "execution_count": 6,
      "outputs": []
    },
    {
      "cell_type": "code",
      "metadata": {
        "colab": {
          "base_uri": "https://localhost:8080/"
        },
        "id": "CYIk3PjOT2Ig",
        "outputId": "b52b8dc1-b3ce-4462-c73f-40959e45115a"
      },
      "source": [
        "#Checking for class representation within the dataset\n",
        "for i in range(len(binary_cols)):\n",
        "  print(df_hcv[binary_cols[i]].value_counts())"
      ],
      "execution_count": 7,
      "outputs": [
        {
          "output_type": "stream",
          "name": "stdout",
          "text": [
            "1    707\n",
            "2    678\n",
            "Name: Gender, dtype: int64\n",
            "2    714\n",
            "1    671\n",
            "Name: Fever, dtype: int64\n",
            "2    696\n",
            "1    689\n",
            "Name: Nausea/Vomting, dtype: int64\n",
            "1    698\n",
            "2    687\n",
            "Name: Headache , dtype: int64\n",
            "2    696\n",
            "1    689\n",
            "Name: Diarrhea , dtype: int64\n",
            "1    694\n",
            "2    691\n",
            "Name: Fatigue & generalized bone ache , dtype: int64\n",
            "2    694\n",
            "1    691\n",
            "Name: Jaundice , dtype: int64\n",
            "2    698\n",
            "1    687\n",
            "Name: Epigastric pain , dtype: int64\n"
          ]
        }
      ]
    },
    {
      "cell_type": "code",
      "metadata": {
        "id": "g044WTyhWx-R"
      },
      "source": [
        "non_bin=['Age ', 'BMI', 'WBC', 'RBC', 'HGB', 'Plat', 'AST 1', 'ALT 1',\n",
        "       'ALT4', 'ALT 12', 'ALT 24', 'ALT 36', 'ALT 48', 'ALT after 24 w',\n",
        "       'RNA Base', 'RNA 4', 'RNA 12', 'RNA EOT', 'RNA EF',\n",
        "       'Baseline histological Grading', 'Baselinehistological staging']"
      ],
      "execution_count": 8,
      "outputs": []
    },
    {
      "cell_type": "code",
      "metadata": {
        "colab": {
          "base_uri": "https://localhost:8080/",
          "height": 354
        },
        "id": "Dz-ZgdlOXCLa",
        "outputId": "e5226b07-24eb-4e12-fe7d-e4f13b9cc029"
      },
      "source": [
        "#Data description\n",
        "df_hcv.describe()"
      ],
      "execution_count": 9,
      "outputs": [
        {
          "output_type": "execute_result",
          "data": {
            "text/html": [
              "<div>\n",
              "<style scoped>\n",
              "    .dataframe tbody tr th:only-of-type {\n",
              "        vertical-align: middle;\n",
              "    }\n",
              "\n",
              "    .dataframe tbody tr th {\n",
              "        vertical-align: top;\n",
              "    }\n",
              "\n",
              "    .dataframe thead th {\n",
              "        text-align: right;\n",
              "    }\n",
              "</style>\n",
              "<table border=\"1\" class=\"dataframe\">\n",
              "  <thead>\n",
              "    <tr style=\"text-align: right;\">\n",
              "      <th></th>\n",
              "      <th>Age</th>\n",
              "      <th>Gender</th>\n",
              "      <th>BMI</th>\n",
              "      <th>Fever</th>\n",
              "      <th>Nausea/Vomting</th>\n",
              "      <th>Headache</th>\n",
              "      <th>Diarrhea</th>\n",
              "      <th>Fatigue &amp; generalized bone ache</th>\n",
              "      <th>Jaundice</th>\n",
              "      <th>Epigastric pain</th>\n",
              "      <th>WBC</th>\n",
              "      <th>RBC</th>\n",
              "      <th>HGB</th>\n",
              "      <th>Plat</th>\n",
              "      <th>AST 1</th>\n",
              "      <th>ALT 1</th>\n",
              "      <th>ALT4</th>\n",
              "      <th>ALT 12</th>\n",
              "      <th>ALT 24</th>\n",
              "      <th>ALT 36</th>\n",
              "      <th>ALT 48</th>\n",
              "      <th>ALT after 24 w</th>\n",
              "      <th>RNA Base</th>\n",
              "      <th>RNA 4</th>\n",
              "      <th>RNA 12</th>\n",
              "      <th>RNA EOT</th>\n",
              "      <th>RNA EF</th>\n",
              "      <th>Baseline histological Grading</th>\n",
              "      <th>Baselinehistological staging</th>\n",
              "    </tr>\n",
              "  </thead>\n",
              "  <tbody>\n",
              "    <tr>\n",
              "      <th>count</th>\n",
              "      <td>1385.000000</td>\n",
              "      <td>1385.000000</td>\n",
              "      <td>1385.000000</td>\n",
              "      <td>1385.000000</td>\n",
              "      <td>1385.000000</td>\n",
              "      <td>1385.000000</td>\n",
              "      <td>1385.000000</td>\n",
              "      <td>1385.000000</td>\n",
              "      <td>1385.000000</td>\n",
              "      <td>1385.000000</td>\n",
              "      <td>1385.000000</td>\n",
              "      <td>1.385000e+03</td>\n",
              "      <td>1385.000000</td>\n",
              "      <td>1385.00000</td>\n",
              "      <td>1385.000000</td>\n",
              "      <td>1385.000000</td>\n",
              "      <td>1385.000000</td>\n",
              "      <td>1385.000000</td>\n",
              "      <td>1385.000000</td>\n",
              "      <td>1385.000000</td>\n",
              "      <td>1385.000000</td>\n",
              "      <td>1385.000000</td>\n",
              "      <td>1.385000e+03</td>\n",
              "      <td>1.385000e+03</td>\n",
              "      <td>1.385000e+03</td>\n",
              "      <td>1385.000000</td>\n",
              "      <td>1385.000000</td>\n",
              "      <td>1385.000000</td>\n",
              "      <td>1385.000000</td>\n",
              "    </tr>\n",
              "    <tr>\n",
              "      <th>mean</th>\n",
              "      <td>46.319134</td>\n",
              "      <td>1.489531</td>\n",
              "      <td>28.608664</td>\n",
              "      <td>1.515523</td>\n",
              "      <td>1.502527</td>\n",
              "      <td>1.496029</td>\n",
              "      <td>1.502527</td>\n",
              "      <td>1.498917</td>\n",
              "      <td>1.501083</td>\n",
              "      <td>1.503971</td>\n",
              "      <td>7533.386282</td>\n",
              "      <td>4.422130e+06</td>\n",
              "      <td>12.587726</td>\n",
              "      <td>158348.06065</td>\n",
              "      <td>82.774729</td>\n",
              "      <td>83.916245</td>\n",
              "      <td>83.405776</td>\n",
              "      <td>83.510469</td>\n",
              "      <td>83.709025</td>\n",
              "      <td>83.117690</td>\n",
              "      <td>83.629603</td>\n",
              "      <td>33.438267</td>\n",
              "      <td>5.909512e+05</td>\n",
              "      <td>6.008956e+05</td>\n",
              "      <td>2.887536e+05</td>\n",
              "      <td>287660.336462</td>\n",
              "      <td>291378.290975</td>\n",
              "      <td>9.761733</td>\n",
              "      <td>2.536462</td>\n",
              "    </tr>\n",
              "    <tr>\n",
              "      <th>std</th>\n",
              "      <td>8.781506</td>\n",
              "      <td>0.500071</td>\n",
              "      <td>4.076215</td>\n",
              "      <td>0.499939</td>\n",
              "      <td>0.500174</td>\n",
              "      <td>0.500165</td>\n",
              "      <td>0.500174</td>\n",
              "      <td>0.500179</td>\n",
              "      <td>0.500179</td>\n",
              "      <td>0.500165</td>\n",
              "      <td>2668.220333</td>\n",
              "      <td>3.463577e+05</td>\n",
              "      <td>1.713511</td>\n",
              "      <td>38794.78555</td>\n",
              "      <td>25.993242</td>\n",
              "      <td>25.922800</td>\n",
              "      <td>26.529730</td>\n",
              "      <td>26.064478</td>\n",
              "      <td>26.205994</td>\n",
              "      <td>26.399031</td>\n",
              "      <td>26.223955</td>\n",
              "      <td>7.073569</td>\n",
              "      <td>3.539354e+05</td>\n",
              "      <td>3.623151e+05</td>\n",
              "      <td>2.853507e+05</td>\n",
              "      <td>264559.525070</td>\n",
              "      <td>267700.691713</td>\n",
              "      <td>4.023896</td>\n",
              "      <td>1.121392</td>\n",
              "    </tr>\n",
              "    <tr>\n",
              "      <th>min</th>\n",
              "      <td>32.000000</td>\n",
              "      <td>1.000000</td>\n",
              "      <td>22.000000</td>\n",
              "      <td>1.000000</td>\n",
              "      <td>1.000000</td>\n",
              "      <td>1.000000</td>\n",
              "      <td>1.000000</td>\n",
              "      <td>1.000000</td>\n",
              "      <td>1.000000</td>\n",
              "      <td>1.000000</td>\n",
              "      <td>2991.000000</td>\n",
              "      <td>3.816422e+06</td>\n",
              "      <td>10.000000</td>\n",
              "      <td>93013.00000</td>\n",
              "      <td>39.000000</td>\n",
              "      <td>39.000000</td>\n",
              "      <td>39.000000</td>\n",
              "      <td>39.000000</td>\n",
              "      <td>39.000000</td>\n",
              "      <td>5.000000</td>\n",
              "      <td>5.000000</td>\n",
              "      <td>5.000000</td>\n",
              "      <td>1.100000e+01</td>\n",
              "      <td>5.000000e+00</td>\n",
              "      <td>5.000000e+00</td>\n",
              "      <td>5.000000</td>\n",
              "      <td>5.000000</td>\n",
              "      <td>3.000000</td>\n",
              "      <td>1.000000</td>\n",
              "    </tr>\n",
              "    <tr>\n",
              "      <th>25%</th>\n",
              "      <td>39.000000</td>\n",
              "      <td>1.000000</td>\n",
              "      <td>25.000000</td>\n",
              "      <td>1.000000</td>\n",
              "      <td>1.000000</td>\n",
              "      <td>1.000000</td>\n",
              "      <td>1.000000</td>\n",
              "      <td>1.000000</td>\n",
              "      <td>1.000000</td>\n",
              "      <td>1.000000</td>\n",
              "      <td>5219.000000</td>\n",
              "      <td>4.121374e+06</td>\n",
              "      <td>11.000000</td>\n",
              "      <td>124479.00000</td>\n",
              "      <td>60.000000</td>\n",
              "      <td>62.000000</td>\n",
              "      <td>61.000000</td>\n",
              "      <td>60.000000</td>\n",
              "      <td>61.000000</td>\n",
              "      <td>61.000000</td>\n",
              "      <td>61.000000</td>\n",
              "      <td>28.000000</td>\n",
              "      <td>2.692530e+05</td>\n",
              "      <td>2.708930e+05</td>\n",
              "      <td>5.000000e+00</td>\n",
              "      <td>5.000000</td>\n",
              "      <td>5.000000</td>\n",
              "      <td>6.000000</td>\n",
              "      <td>2.000000</td>\n",
              "    </tr>\n",
              "    <tr>\n",
              "      <th>50%</th>\n",
              "      <td>46.000000</td>\n",
              "      <td>1.000000</td>\n",
              "      <td>29.000000</td>\n",
              "      <td>2.000000</td>\n",
              "      <td>2.000000</td>\n",
              "      <td>1.000000</td>\n",
              "      <td>2.000000</td>\n",
              "      <td>1.000000</td>\n",
              "      <td>2.000000</td>\n",
              "      <td>2.000000</td>\n",
              "      <td>7498.000000</td>\n",
              "      <td>4.438465e+06</td>\n",
              "      <td>13.000000</td>\n",
              "      <td>157916.00000</td>\n",
              "      <td>83.000000</td>\n",
              "      <td>83.000000</td>\n",
              "      <td>82.000000</td>\n",
              "      <td>84.000000</td>\n",
              "      <td>83.000000</td>\n",
              "      <td>84.000000</td>\n",
              "      <td>83.000000</td>\n",
              "      <td>34.000000</td>\n",
              "      <td>5.931030e+05</td>\n",
              "      <td>5.978690e+05</td>\n",
              "      <td>2.343590e+05</td>\n",
              "      <td>251376.000000</td>\n",
              "      <td>244049.000000</td>\n",
              "      <td>10.000000</td>\n",
              "      <td>3.000000</td>\n",
              "    </tr>\n",
              "    <tr>\n",
              "      <th>75%</th>\n",
              "      <td>54.000000</td>\n",
              "      <td>2.000000</td>\n",
              "      <td>32.000000</td>\n",
              "      <td>2.000000</td>\n",
              "      <td>2.000000</td>\n",
              "      <td>2.000000</td>\n",
              "      <td>2.000000</td>\n",
              "      <td>2.000000</td>\n",
              "      <td>2.000000</td>\n",
              "      <td>2.000000</td>\n",
              "      <td>9902.000000</td>\n",
              "      <td>4.721279e+06</td>\n",
              "      <td>14.000000</td>\n",
              "      <td>190314.00000</td>\n",
              "      <td>105.000000</td>\n",
              "      <td>106.000000</td>\n",
              "      <td>107.000000</td>\n",
              "      <td>106.000000</td>\n",
              "      <td>107.000000</td>\n",
              "      <td>106.000000</td>\n",
              "      <td>106.000000</td>\n",
              "      <td>40.000000</td>\n",
              "      <td>8.867910e+05</td>\n",
              "      <td>9.090930e+05</td>\n",
              "      <td>5.248190e+05</td>\n",
              "      <td>517806.000000</td>\n",
              "      <td>527864.000000</td>\n",
              "      <td>13.000000</td>\n",
              "      <td>4.000000</td>\n",
              "    </tr>\n",
              "    <tr>\n",
              "      <th>max</th>\n",
              "      <td>61.000000</td>\n",
              "      <td>2.000000</td>\n",
              "      <td>35.000000</td>\n",
              "      <td>2.000000</td>\n",
              "      <td>2.000000</td>\n",
              "      <td>2.000000</td>\n",
              "      <td>2.000000</td>\n",
              "      <td>2.000000</td>\n",
              "      <td>2.000000</td>\n",
              "      <td>2.000000</td>\n",
              "      <td>12101.000000</td>\n",
              "      <td>5.018451e+06</td>\n",
              "      <td>15.000000</td>\n",
              "      <td>226464.00000</td>\n",
              "      <td>128.000000</td>\n",
              "      <td>128.000000</td>\n",
              "      <td>128.000000</td>\n",
              "      <td>128.000000</td>\n",
              "      <td>128.000000</td>\n",
              "      <td>128.000000</td>\n",
              "      <td>128.000000</td>\n",
              "      <td>45.000000</td>\n",
              "      <td>1.201086e+06</td>\n",
              "      <td>1.201715e+06</td>\n",
              "      <td>3.731527e+06</td>\n",
              "      <td>808450.000000</td>\n",
              "      <td>810333.000000</td>\n",
              "      <td>16.000000</td>\n",
              "      <td>4.000000</td>\n",
              "    </tr>\n",
              "  </tbody>\n",
              "</table>\n",
              "</div>"
            ],
            "text/plain": [
              "              Age   ...  Baselinehistological staging\n",
              "count  1385.000000  ...                   1385.000000\n",
              "mean     46.319134  ...                      2.536462\n",
              "std       8.781506  ...                      1.121392\n",
              "min      32.000000  ...                      1.000000\n",
              "25%      39.000000  ...                      2.000000\n",
              "50%      46.000000  ...                      3.000000\n",
              "75%      54.000000  ...                      4.000000\n",
              "max      61.000000  ...                      4.000000\n",
              "\n",
              "[8 rows x 29 columns]"
            ]
          },
          "metadata": {},
          "execution_count": 9
        }
      ]
    },
    {
      "cell_type": "markdown",
      "source": [
        "# Bivariate Analysis"
      ],
      "metadata": {
        "id": "IQCpNmgVpP5r"
      }
    },
    {
      "cell_type": "code",
      "metadata": {
        "id": "aZNcU7PjMzS1"
      },
      "source": [
        "#Pair plot\n",
        "import seaborn as sns\n",
        "#sns.pairplot(df_hcv, vars=df_hcv.columns[:-1])"
      ],
      "execution_count": 10,
      "outputs": []
    },
    {
      "cell_type": "code",
      "metadata": {
        "id": "fQx-nTwyMzS2",
        "outputId": "8513d3d4-8cfe-425c-fe5f-172751c0916c",
        "colab": {
          "base_uri": "https://localhost:8080/",
          "height": 275
        }
      },
      "source": [
        "#Correlation plot\n",
        "X = df_hcv.iloc[:, 0:]\n",
        "y = df_hcv.iloc[:, 28]\n",
        "plt.matshow(df_hcv.corr())\n",
        "plt.show()"
      ],
      "execution_count": 11,
      "outputs": [
        {
          "output_type": "display_data",
          "data": {
            "image/png": "[encoded data removed]",
            "text/plain": [
              "<Figure size 288x288 with 1 Axes>"
            ]
          },
          "metadata": {
            "needs_background": "light"
          }
        }
      ]
    },
    {
      "cell_type": "code",
      "metadata": {
        "id": "12z49NSIMzS3",
        "outputId": "44cbe8df-fe53-4a6c-c951-0480d5024b09",
        "colab": {
          "base_uri": "https://localhost:8080/"
        }
      },
      "source": [
        "#Checking for correlation between variables\n",
        "from scipy.stats import spearmanr\n",
        "col_list = df_hcv.columns\n",
        "col_list = list(col_list)\n",
        "col_list.pop(27)\n",
        "col_list.pop()\n",
        "alpha = 0.05\n",
        "coef_list = []\n",
        "column_list = []\n",
        "\n",
        "##getting collinearity using spearman coefficient because of categorical data\n",
        "for i in col_list:\n",
        "    coef, p = spearmanr(df_hcv['Baselinehistological staging'], df_hcv[i])\n",
        "    if p > alpha:\n",
        "        print(i, 'is uncorrelated with correlation values', coef)\n",
        "    else:\n",
        "        print(i, 'is correlated with correlation value', coef)\n",
        "\n",
        "    coef_list.append(coef)\n",
        "    column_list.append(i)"
      ],
      "execution_count": 12,
      "outputs": [
        {
          "output_type": "stream",
          "name": "stdout",
          "text": [
            "Age  is uncorrelated with correlation values -0.019821004190879822\n",
            "Gender is uncorrelated with correlation values 0.011584563785409813\n",
            "BMI is correlated with correlation value -0.05851367001489269\n",
            "Fever is uncorrelated with correlation values -0.03125985970348066\n",
            "Nausea/Vomting is correlated with correlation value 0.05467441775816156\n",
            "Headache  is uncorrelated with correlation values -0.0018225147969065548\n",
            "Diarrhea  is uncorrelated with correlation values -0.005239864874878057\n",
            "Fatigue & generalized bone ache  is uncorrelated with correlation values 0.014553577610302458\n",
            "Jaundice  is uncorrelated with correlation values 0.019968732160764908\n",
            "Epigastric pain  is uncorrelated with correlation values -0.05139044026609895\n",
            "WBC is uncorrelated with correlation values 0.018385685512493324\n",
            "RBC is uncorrelated with correlation values 0.009645008064171158\n",
            "HGB is uncorrelated with correlation values 0.003447249902659829\n",
            "Plat is uncorrelated with correlation values -0.01748898073563276\n",
            "AST 1 is uncorrelated with correlation values -0.02550931384314511\n",
            "ALT 1 is uncorrelated with correlation values 0.03782364537662255\n",
            "ALT4 is uncorrelated with correlation values -0.015799428486129582\n",
            "ALT 12 is uncorrelated with correlation values 0.0008855354289850855\n",
            "ALT 24 is uncorrelated with correlation values -0.003976781082664407\n",
            "ALT 36 is uncorrelated with correlation values -0.0043521068569786605\n",
            "ALT 48 is uncorrelated with correlation values -0.012181121817941117\n",
            "ALT after 24 w is uncorrelated with correlation values 0.03869838316465404\n",
            "RNA Base is uncorrelated with correlation values 0.030030739087444604\n",
            "RNA 4 is uncorrelated with correlation values -0.03308238497337214\n",
            "RNA 12 is uncorrelated with correlation values 0.04028937054546417\n",
            "RNA EOT is uncorrelated with correlation values -0.0122806331765585\n",
            "RNA EF is uncorrelated with correlation values 0.028408458430333006\n"
          ]
        }
      ]
    },
    {
      "cell_type": "code",
      "metadata": {
        "id": "J2ytg-QKMzS5",
        "outputId": "34c8fc7b-2488-4a1c-d597-e173db455305",
        "colab": {
          "base_uri": "https://localhost:8080/",
          "height": 286
        }
      },
      "source": [
        "plt.bar(column_list,coef_list)"
      ],
      "execution_count": 13,
      "outputs": [
        {
          "output_type": "execute_result",
          "data": {
            "text/plain": [
              "<BarContainer object of 27 artists>"
            ]
          },
          "metadata": {},
          "execution_count": 13
        },
        {
          "output_type": "display_data",
          "data": {
            "image/png": "[encoded data removed]",
            "text/plain": [
              "<Figure size 432x288 with 1 Axes>"
            ]
          },
          "metadata": {
            "needs_background": "light"
          }
        }
      ]
    },
    {
      "cell_type": "code",
      "metadata": {
        "id": "HkqKClIbMzS6",
        "outputId": "0f477144-781d-4edb-830b-99d84006066d",
        "colab": {
          "base_uri": "https://localhost:8080/"
        }
      },
      "source": [
        "#Variables with high correlation coefficient\n",
        "['BMI', 'Nausea/Vomiting', 'Epigastric pain', 'ALT 1', 'ALT after 24 w', 'RNA 4', 'RNA 12','RNA EF']"
      ],
      "execution_count": 14,
      "outputs": [
        {
          "output_type": "execute_result",
          "data": {
            "text/plain": [
              "['BMI',\n",
              " 'Nausea/Vomiting',\n",
              " 'Epigastric pain',\n",
              " 'ALT 1',\n",
              " 'ALT after 24 w',\n",
              " 'RNA 4',\n",
              " 'RNA 12',\n",
              " 'RNA EF']"
            ]
          },
          "metadata": {},
          "execution_count": 14
        }
      ]
    },
    {
      "cell_type": "code",
      "metadata": {
        "id": "qYy1jiqjMzS6",
        "outputId": "b1cde984-fe3d-419e-b18c-61c44d551618",
        "colab": {
          "base_uri": "https://localhost:8080/",
          "height": 282
        }
      },
      "source": [
        "df_hcv['BMI'].plot(kind='hist')"
      ],
      "execution_count": 15,
      "outputs": [
        {
          "output_type": "execute_result",
          "data": {
            "text/plain": [
              "<matplotlib.axes._subplots.AxesSubplot at 0x7eff346999d0>"
            ]
          },
          "metadata": {},
          "execution_count": 15
        },
        {
          "output_type": "display_data",
          "data": {
            "image/png": "[encoded data removed]",
            "text/plain": [
              "<Figure size 432x288 with 1 Axes>"
            ]
          },
          "metadata": {
            "needs_background": "light"
          }
        }
      ]
    },
    {
      "cell_type": "code",
      "metadata": {
        "id": "l11qspcYMzS6",
        "outputId": "dc043e74-db69-4daa-d056-0849a286e903",
        "colab": {
          "base_uri": "https://localhost:8080/",
          "height": 282
        }
      },
      "source": [
        "df_hcv['BMI'].plot(kind='hist',bins = 5)"
      ],
      "execution_count": 16,
      "outputs": [
        {
          "output_type": "execute_result",
          "data": {
            "text/plain": [
              "<matplotlib.axes._subplots.AxesSubplot at 0x7eff345a4bd0>"
            ]
          },
          "metadata": {},
          "execution_count": 16
        },
        {
          "output_type": "display_data",
          "data": {
            "image/png": "[encoded data removed]",
            "text/plain": [
              "<Figure size 432x288 with 1 Axes>"
            ]
          },
          "metadata": {
            "needs_background": "light"
          }
        }
      ]
    },
    {
      "cell_type": "code",
      "metadata": {
        "id": "KXC_fvIJMzS7",
        "outputId": "a8721c93-3f20-483f-9bca-f9b25c3934c6",
        "colab": {
          "base_uri": "https://localhost:8080/",
          "height": 524
        }
      },
      "source": [
        "#Age\n",
        "b = df_hcv.iloc[:, 0]\n",
        "print(b)\n",
        "plt.hist(b, bins =5, )"
      ],
      "execution_count": 17,
      "outputs": [
        {
          "output_type": "stream",
          "name": "stdout",
          "text": [
            "0       56\n",
            "1       46\n",
            "2       57\n",
            "3       49\n",
            "4       59\n",
            "        ..\n",
            "1380    44\n",
            "1381    55\n",
            "1382    42\n",
            "1383    52\n",
            "1384    55\n",
            "Name: Age , Length: 1385, dtype: int64\n"
          ]
        },
        {
          "output_type": "execute_result",
          "data": {
            "text/plain": [
              "(array([295., 278., 261., 267., 284.]),\n",
              " array([32. , 37.8, 43.6, 49.4, 55.2, 61. ]),\n",
              " <a list of 5 Patch objects>)"
            ]
          },
          "metadata": {},
          "execution_count": 17
        },
        {
          "output_type": "display_data",
          "data": {
            "image/png": "[encoded data removed]",
            "text/plain": [
              "<Figure size 432x288 with 1 Axes>"
            ]
          },
          "metadata": {
            "needs_background": "light"
          }
        }
      ]
    },
    {
      "cell_type": "markdown",
      "source": [
        "# Pre-processing"
      ],
      "metadata": {
        "id": "Oco24byVpa9a"
      }
    },
    {
      "cell_type": "code",
      "metadata": {
        "colab": {
          "base_uri": "https://localhost:8080/",
          "height": 1000
        },
        "id": "A-oMObGYbQnh",
        "outputId": "08022fbe-b195-46f0-e7f5-316cec59d706"
      },
      "source": [
        "#Data distribution and checking for outliers\n",
        "for j in range(len(non_bin)):\n",
        "  plt.rcParams[\"figure.autolayout\"] = True\n",
        "  f, axes = plt.subplots(1, 2)\n",
        "  sns.set(color_codes=True)\n",
        "  sns.set(style=\"white\", palette=\"muted\")\n",
        "  #print(df_hcv[non_bin[j]])\n",
        "  sns.distplot(df_hcv[non_bin[j]],ax=axes[0])\n",
        "  #Boxplot\n",
        "  sns.boxplot(df_hcv[non_bin[j]],ax=axes[1])"
      ],
      "execution_count": 18,
      "outputs": [
        {
          "output_type": "stream",
          "name": "stderr",
          "text": [
            "/usr/local/lib/python3.7/dist-packages/ipykernel_launcher.py:4: RuntimeWarning: More than 20 figures have been opened. Figures created through the pyplot interface (`matplotlib.pyplot.figure`) are retained until explicitly closed and may consume too much memory. (To control this warning, see the rcParam `figure.max_open_warning`).\n",
            "  after removing the cwd from sys.path.\n"
          ]
        },
        {
          "output_type": "display_data",
          "data": {
            "image/png": "[encoded data removed]",
            "text/plain": [
              "<Figure size 432x288 with 2 Axes>"
            ]
          },
          "metadata": {
            "needs_background": "light"
          }
        },
        {
          "output_type": "display_data",
          "data": {
            "image/png": "[encoded data removed]",
            "text/plain": [
              "<Figure size 432x288 with 2 Axes>"
            ]
          },
          "metadata": {}
        },
        {
          "output_type": "display_data",
          "data": {
            "image/png": "[encoded data removed]",
            "text/plain": [
              "<Figure size 432x288 with 2 Axes>"
            ]
          },
          "metadata": {}
        },
        {
          "output_type": "display_data",
          "data": {
            "image/png": "[encoded data removed]",
            "text/plain": [
              "<Figure size 432x288 with 2 Axes>"
            ]
          },
          "metadata": {}
        },
        {
          "output_type": "display_data",
          "data": {
            "image/png": "[encoded data removed]",
            "text/plain": [
              "<Figure size 432x288 with 2 Axes>"
            ]
          },
          "metadata": {}
        },
        {
          "output_type": "display_data",
          "data": {
            "image/png": "[encoded data removed]",
            "text/plain": [
              "<Figure size 432x288 with 2 Axes>"
            ]
          },
          "metadata": {}
        },
        {
          "output_type": "display_data",
          "data": {
            "image/png": "[encoded data removed]",
            "text/plain": [
              "<Figure size 432x288 with 2 Axes>"
            ]
          },
          "metadata": {}
        },
        {
          "output_type": "display_data",
          "data": {
            "image/png": "[encoded data removed]",
            "text/plain": [
              "<Figure size 432x288 with 2 Axes>"
            ]
          },
          "metadata": {}
        },
        {
          "output_type": "display_data",
          "data": {
            "image/png": "[encoded data removed]",
            "text/plain": [
              "<Figure size 432x288 with 2 Axes>"
            ]
          },
          "metadata": {}
        },
        {
          "output_type": "display_data",
          "data": {
            "image/png": "[encoded data removed]",
            "text/plain": [
              "<Figure size 432x288 with 2 Axes>"
            ]
          },
          "metadata": {}
        },
        {
          "output_type": "display_data",
          "data": {
            "image/png": "[encoded data removed]",
            "text/plain": [
              "<Figure size 432x288 with 2 Axes>"
            ]
          },
          "metadata": {}
        },
        {
          "output_type": "display_data",
          "data": {
            "image/png": "[encoded data removed]",
            "text/plain": [
              "<Figure size 432x288 with 2 Axes>"
            ]
          },
          "metadata": {}
        },
        {
          "output_type": "display_data",
          "data": {
            "image/png": "[encoded data removed]",
            "text/plain": [
              "<Figure size 432x288 with 2 Axes>"
            ]
          },
          "metadata": {}
        },
        {
          "output_type": "display_data",
          "data": {
            "image/png": "[encoded data removed]",
            "text/plain": [
              "<Figure size 432x288 with 2 Axes>"
            ]
          },
          "metadata": {}
        },
        {
          "output_type": "display_data",
          "data": {
            "image/png": "[encoded data removed]",
            "text/plain": [
              "<Figure size 432x288 with 2 Axes>"
            ]
          },
          "metadata": {}
        },
        {
          "output_type": "display_data",
          "data": {
            "image/png": "[encoded data removed]",
            "text/plain": [
              "<Figure size 432x288 with 2 Axes>"
            ]
          },
          "metadata": {}
        },
        {
          "output_type": "display_data",
          "data": {
            "image/png": "[encoded data removed]",
            "text/plain": [
              "<Figure size 432x288 with 2 Axes>"
            ]
          },
          "metadata": {}
        },
        {
          "output_type": "display_data",
          "data": {
            "image/png": "[encoded data removed]",
            "text/plain": [
              "<Figure size 432x288 with 2 Axes>"
            ]
          },
          "metadata": {}
        },
        {
          "output_type": "display_data",
          "data": {
            "image/png": "[encoded data removed]",
            "text/plain": [
              "<Figure size 432x288 with 2 Axes>"
            ]
          },
          "metadata": {}
        },
        {
          "output_type": "display_data",
          "data": {
            "image/png": "[encoded data removed]",
            "text/plain": [
              "<Figure size 432x288 with 2 Axes>"
            ]
          },
          "metadata": {}
        },
        {
          "output_type": "display_data",
          "data": {
            "image/png": "[encoded data removed]",
            "text/plain": [
              "<Figure size 432x288 with 2 Axes>"
            ]
          },
          "metadata": {}
        }
      ]
    },
    {
      "cell_type": "code",
      "metadata": {
        "id": "my2Cdg5PMzS8",
        "outputId": "63f561ee-aafb-472b-dd2d-5f302b65891d",
        "colab": {
          "base_uri": "https://localhost:8080/",
          "height": 476
        }
      },
      "source": [
        "#Outlier treatment\n",
        "#Outliers in ALT after 24 w\n",
        "filter = df_hcv['ALT after 24 w'].values > 22\n",
        "df_hcv = df_hcv[filter]\n",
        "df_hcv\n",
        "#Outliers in RNA 12\n",
        "df_hcv = df_hcv[df_hcv['RNA 12'] < 1000000]\n",
        "df_hcv"
      ],
      "execution_count": 19,
      "outputs": [
        {
          "output_type": "execute_result",
          "data": {
            "text/html": [
              "<div>\n",
              "<style scoped>\n",
              "    .dataframe tbody tr th:only-of-type {\n",
              "        vertical-align: middle;\n",
              "    }\n",
              "\n",
              "    .dataframe tbody tr th {\n",
              "        vertical-align: top;\n",
              "    }\n",
              "\n",
              "    .dataframe thead th {\n",
              "        text-align: right;\n",
              "    }\n",
              "</style>\n",
              "<table border=\"1\" class=\"dataframe\">\n",
              "  <thead>\n",
              "    <tr style=\"text-align: right;\">\n",
              "      <th></th>\n",
              "      <th>Age</th>\n",
              "      <th>Gender</th>\n",
              "      <th>BMI</th>\n",
              "      <th>Fever</th>\n",
              "      <th>Nausea/Vomting</th>\n",
              "      <th>Headache</th>\n",
              "      <th>Diarrhea</th>\n",
              "      <th>Fatigue &amp; generalized bone ache</th>\n",
              "      <th>Jaundice</th>\n",
              "      <th>Epigastric pain</th>\n",
              "      <th>WBC</th>\n",
              "      <th>RBC</th>\n",
              "      <th>HGB</th>\n",
              "      <th>Plat</th>\n",
              "      <th>AST 1</th>\n",
              "      <th>ALT 1</th>\n",
              "      <th>ALT4</th>\n",
              "      <th>ALT 12</th>\n",
              "      <th>ALT 24</th>\n",
              "      <th>ALT 36</th>\n",
              "      <th>ALT 48</th>\n",
              "      <th>ALT after 24 w</th>\n",
              "      <th>RNA Base</th>\n",
              "      <th>RNA 4</th>\n",
              "      <th>RNA 12</th>\n",
              "      <th>RNA EOT</th>\n",
              "      <th>RNA EF</th>\n",
              "      <th>Baseline histological Grading</th>\n",
              "      <th>Baselinehistological staging</th>\n",
              "    </tr>\n",
              "  </thead>\n",
              "  <tbody>\n",
              "    <tr>\n",
              "      <th>1</th>\n",
              "      <td>46</td>\n",
              "      <td>1</td>\n",
              "      <td>29</td>\n",
              "      <td>1</td>\n",
              "      <td>2</td>\n",
              "      <td>2</td>\n",
              "      <td>1</td>\n",
              "      <td>2</td>\n",
              "      <td>2</td>\n",
              "      <td>1</td>\n",
              "      <td>12101</td>\n",
              "      <td>4429425.0</td>\n",
              "      <td>10</td>\n",
              "      <td>129367.0</td>\n",
              "      <td>91</td>\n",
              "      <td>123</td>\n",
              "      <td>95.0</td>\n",
              "      <td>75</td>\n",
              "      <td>113</td>\n",
              "      <td>57</td>\n",
              "      <td>123</td>\n",
              "      <td>44</td>\n",
              "      <td>40620</td>\n",
              "      <td>538635</td>\n",
              "      <td>637056</td>\n",
              "      <td>336804</td>\n",
              "      <td>31085</td>\n",
              "      <td>4</td>\n",
              "      <td>2</td>\n",
              "    </tr>\n",
              "    <tr>\n",
              "      <th>3</th>\n",
              "      <td>49</td>\n",
              "      <td>2</td>\n",
              "      <td>33</td>\n",
              "      <td>1</td>\n",
              "      <td>2</td>\n",
              "      <td>1</td>\n",
              "      <td>2</td>\n",
              "      <td>1</td>\n",
              "      <td>2</td>\n",
              "      <td>1</td>\n",
              "      <td>6490</td>\n",
              "      <td>4794631.0</td>\n",
              "      <td>10</td>\n",
              "      <td>146457.0</td>\n",
              "      <td>43</td>\n",
              "      <td>64</td>\n",
              "      <td>109.0</td>\n",
              "      <td>80</td>\n",
              "      <td>88</td>\n",
              "      <td>48</td>\n",
              "      <td>77</td>\n",
              "      <td>33</td>\n",
              "      <td>1041941</td>\n",
              "      <td>449939</td>\n",
              "      <td>585688</td>\n",
              "      <td>744463</td>\n",
              "      <td>582301</td>\n",
              "      <td>10</td>\n",
              "      <td>3</td>\n",
              "    </tr>\n",
              "    <tr>\n",
              "      <th>5</th>\n",
              "      <td>58</td>\n",
              "      <td>2</td>\n",
              "      <td>22</td>\n",
              "      <td>2</td>\n",
              "      <td>2</td>\n",
              "      <td>2</td>\n",
              "      <td>1</td>\n",
              "      <td>2</td>\n",
              "      <td>2</td>\n",
              "      <td>1</td>\n",
              "      <td>11785</td>\n",
              "      <td>3882456.0</td>\n",
              "      <td>15</td>\n",
              "      <td>131228.0</td>\n",
              "      <td>66</td>\n",
              "      <td>104</td>\n",
              "      <td>121.0</td>\n",
              "      <td>96</td>\n",
              "      <td>65</td>\n",
              "      <td>73</td>\n",
              "      <td>114</td>\n",
              "      <td>29</td>\n",
              "      <td>1157452</td>\n",
              "      <td>1086852</td>\n",
              "      <td>5</td>\n",
              "      <td>5</td>\n",
              "      <td>5</td>\n",
              "      <td>4</td>\n",
              "      <td>4</td>\n",
              "    </tr>\n",
              "    <tr>\n",
              "      <th>6</th>\n",
              "      <td>42</td>\n",
              "      <td>2</td>\n",
              "      <td>26</td>\n",
              "      <td>1</td>\n",
              "      <td>1</td>\n",
              "      <td>2</td>\n",
              "      <td>2</td>\n",
              "      <td>2</td>\n",
              "      <td>2</td>\n",
              "      <td>2</td>\n",
              "      <td>11620</td>\n",
              "      <td>4747333.0</td>\n",
              "      <td>12</td>\n",
              "      <td>177261.0</td>\n",
              "      <td>78</td>\n",
              "      <td>57</td>\n",
              "      <td>113.0</td>\n",
              "      <td>118</td>\n",
              "      <td>107</td>\n",
              "      <td>84</td>\n",
              "      <td>80</td>\n",
              "      <td>28</td>\n",
              "      <td>325694</td>\n",
              "      <td>1034008</td>\n",
              "      <td>275095</td>\n",
              "      <td>214566</td>\n",
              "      <td>635157</td>\n",
              "      <td>12</td>\n",
              "      <td>4</td>\n",
              "    </tr>\n",
              "    <tr>\n",
              "      <th>7</th>\n",
              "      <td>48</td>\n",
              "      <td>2</td>\n",
              "      <td>30</td>\n",
              "      <td>1</td>\n",
              "      <td>1</td>\n",
              "      <td>2</td>\n",
              "      <td>2</td>\n",
              "      <td>1</td>\n",
              "      <td>1</td>\n",
              "      <td>2</td>\n",
              "      <td>7335</td>\n",
              "      <td>4405941.0</td>\n",
              "      <td>11</td>\n",
              "      <td>216176.0</td>\n",
              "      <td>119</td>\n",
              "      <td>112</td>\n",
              "      <td>80.0</td>\n",
              "      <td>127</td>\n",
              "      <td>45</td>\n",
              "      <td>96</td>\n",
              "      <td>53</td>\n",
              "      <td>39</td>\n",
              "      <td>641129</td>\n",
              "      <td>72050</td>\n",
              "      <td>787295</td>\n",
              "      <td>370605</td>\n",
              "      <td>506296</td>\n",
              "      <td>12</td>\n",
              "      <td>3</td>\n",
              "    </tr>\n",
              "    <tr>\n",
              "      <th>...</th>\n",
              "      <td>...</td>\n",
              "      <td>...</td>\n",
              "      <td>...</td>\n",
              "      <td>...</td>\n",
              "      <td>...</td>\n",
              "      <td>...</td>\n",
              "      <td>...</td>\n",
              "      <td>...</td>\n",
              "      <td>...</td>\n",
              "      <td>...</td>\n",
              "      <td>...</td>\n",
              "      <td>...</td>\n",
              "      <td>...</td>\n",
              "      <td>...</td>\n",
              "      <td>...</td>\n",
              "      <td>...</td>\n",
              "      <td>...</td>\n",
              "      <td>...</td>\n",
              "      <td>...</td>\n",
              "      <td>...</td>\n",
              "      <td>...</td>\n",
              "      <td>...</td>\n",
              "      <td>...</td>\n",
              "      <td>...</td>\n",
              "      <td>...</td>\n",
              "      <td>...</td>\n",
              "      <td>...</td>\n",
              "      <td>...</td>\n",
              "      <td>...</td>\n",
              "    </tr>\n",
              "    <tr>\n",
              "      <th>1380</th>\n",
              "      <td>44</td>\n",
              "      <td>1</td>\n",
              "      <td>29</td>\n",
              "      <td>1</td>\n",
              "      <td>2</td>\n",
              "      <td>2</td>\n",
              "      <td>2</td>\n",
              "      <td>1</td>\n",
              "      <td>1</td>\n",
              "      <td>1</td>\n",
              "      <td>7044</td>\n",
              "      <td>4957174.0</td>\n",
              "      <td>15</td>\n",
              "      <td>202520.0</td>\n",
              "      <td>122</td>\n",
              "      <td>59</td>\n",
              "      <td>78.0</td>\n",
              "      <td>106</td>\n",
              "      <td>127</td>\n",
              "      <td>63</td>\n",
              "      <td>44</td>\n",
              "      <td>45</td>\n",
              "      <td>387795</td>\n",
              "      <td>55938</td>\n",
              "      <td>5</td>\n",
              "      <td>5</td>\n",
              "      <td>5</td>\n",
              "      <td>15</td>\n",
              "      <td>4</td>\n",
              "    </tr>\n",
              "    <tr>\n",
              "      <th>1381</th>\n",
              "      <td>55</td>\n",
              "      <td>1</td>\n",
              "      <td>34</td>\n",
              "      <td>1</td>\n",
              "      <td>2</td>\n",
              "      <td>2</td>\n",
              "      <td>1</td>\n",
              "      <td>1</td>\n",
              "      <td>1</td>\n",
              "      <td>1</td>\n",
              "      <td>6207</td>\n",
              "      <td>4636951.0</td>\n",
              "      <td>10</td>\n",
              "      <td>115776.0</td>\n",
              "      <td>128</td>\n",
              "      <td>102</td>\n",
              "      <td>65.0</td>\n",
              "      <td>99</td>\n",
              "      <td>108</td>\n",
              "      <td>97</td>\n",
              "      <td>64</td>\n",
              "      <td>41</td>\n",
              "      <td>481378</td>\n",
              "      <td>152961</td>\n",
              "      <td>393339</td>\n",
              "      <td>73574</td>\n",
              "      <td>236273</td>\n",
              "      <td>10</td>\n",
              "      <td>2</td>\n",
              "    </tr>\n",
              "    <tr>\n",
              "      <th>1382</th>\n",
              "      <td>42</td>\n",
              "      <td>1</td>\n",
              "      <td>26</td>\n",
              "      <td>2</td>\n",
              "      <td>2</td>\n",
              "      <td>1</td>\n",
              "      <td>1</td>\n",
              "      <td>1</td>\n",
              "      <td>2</td>\n",
              "      <td>1</td>\n",
              "      <td>4913</td>\n",
              "      <td>4122038.0</td>\n",
              "      <td>14</td>\n",
              "      <td>128354.0</td>\n",
              "      <td>61</td>\n",
              "      <td>93</td>\n",
              "      <td>123.0</td>\n",
              "      <td>61</td>\n",
              "      <td>116</td>\n",
              "      <td>87</td>\n",
              "      <td>39</td>\n",
              "      <td>24</td>\n",
              "      <td>612664</td>\n",
              "      <td>572756</td>\n",
              "      <td>806109</td>\n",
              "      <td>343719</td>\n",
              "      <td>160457</td>\n",
              "      <td>6</td>\n",
              "      <td>2</td>\n",
              "    </tr>\n",
              "    <tr>\n",
              "      <th>1383</th>\n",
              "      <td>52</td>\n",
              "      <td>1</td>\n",
              "      <td>29</td>\n",
              "      <td>2</td>\n",
              "      <td>1</td>\n",
              "      <td>1</td>\n",
              "      <td>2</td>\n",
              "      <td>2</td>\n",
              "      <td>2</td>\n",
              "      <td>1</td>\n",
              "      <td>7257</td>\n",
              "      <td>4241990.0</td>\n",
              "      <td>10</td>\n",
              "      <td>205908.0</td>\n",
              "      <td>70</td>\n",
              "      <td>97</td>\n",
              "      <td>104.0</td>\n",
              "      <td>74</td>\n",
              "      <td>47</td>\n",
              "      <td>48</td>\n",
              "      <td>81</td>\n",
              "      <td>43</td>\n",
              "      <td>139872</td>\n",
              "      <td>76161</td>\n",
              "      <td>515730</td>\n",
              "      <td>2460</td>\n",
              "      <td>696074</td>\n",
              "      <td>15</td>\n",
              "      <td>3</td>\n",
              "    </tr>\n",
              "    <tr>\n",
              "      <th>1384</th>\n",
              "      <td>55</td>\n",
              "      <td>2</td>\n",
              "      <td>26</td>\n",
              "      <td>1</td>\n",
              "      <td>2</td>\n",
              "      <td>2</td>\n",
              "      <td>2</td>\n",
              "      <td>1</td>\n",
              "      <td>2</td>\n",
              "      <td>1</td>\n",
              "      <td>11832</td>\n",
              "      <td>4059176.0</td>\n",
              "      <td>14</td>\n",
              "      <td>136615.0</td>\n",
              "      <td>51</td>\n",
              "      <td>126</td>\n",
              "      <td>39.0</td>\n",
              "      <td>68</td>\n",
              "      <td>115</td>\n",
              "      <td>64</td>\n",
              "      <td>71</td>\n",
              "      <td>34</td>\n",
              "      <td>1190577</td>\n",
              "      <td>628730</td>\n",
              "      <td>5</td>\n",
              "      <td>5</td>\n",
              "      <td>5</td>\n",
              "      <td>13</td>\n",
              "      <td>3</td>\n",
              "    </tr>\n",
              "  </tbody>\n",
              "</table>\n",
              "<p>1324 rows × 29 columns</p>\n",
              "</div>"
            ],
            "text/plain": [
              "      Age   Gender  ...  Baseline histological Grading  Baselinehistological staging\n",
              "1       46       1  ...                              4                             2\n",
              "3       49       2  ...                             10                             3\n",
              "5       58       2  ...                              4                             4\n",
              "6       42       2  ...                             12                             4\n",
              "7       48       2  ...                             12                             3\n",
              "...    ...     ...  ...                            ...                           ...\n",
              "1380    44       1  ...                             15                             4\n",
              "1381    55       1  ...                             10                             2\n",
              "1382    42       1  ...                              6                             2\n",
              "1383    52       1  ...                             15                             3\n",
              "1384    55       2  ...                             13                             3\n",
              "\n",
              "[1324 rows x 29 columns]"
            ]
          },
          "metadata": {},
          "execution_count": 19
        }
      ]
    },
    {
      "cell_type": "code",
      "metadata": {
        "id": "zb3ml5q3MzS9",
        "outputId": "24f7c43e-501c-4ad2-eb39-8acb5503380c",
        "colab": {
          "base_uri": "https://localhost:8080/",
          "height": 310
        }
      },
      "source": [
        "sns.boxplot(df_hcv['ALT after 24 w'])"
      ],
      "execution_count": 20,
      "outputs": [
        {
          "output_type": "execute_result",
          "data": {
            "text/plain": [
              "<matplotlib.axes._subplots.AxesSubplot at 0x7eff31d90910>"
            ]
          },
          "metadata": {},
          "execution_count": 20
        },
        {
          "output_type": "display_data",
          "data": {
            "image/png": "[encoded data removed]",
            "text/plain": [
              "<Figure size 432x288 with 1 Axes>"
            ]
          },
          "metadata": {}
        }
      ]
    },
    {
      "cell_type": "code",
      "metadata": {
        "id": "tZTZfh4bMzS-",
        "outputId": "dc8c3846-dce0-4721-fb1b-b903bd29f0b5",
        "colab": {
          "base_uri": "https://localhost:8080/",
          "height": 310
        }
      },
      "source": [
        "sns.boxplot(df_hcv['RNA 12'])"
      ],
      "execution_count": 21,
      "outputs": [
        {
          "output_type": "execute_result",
          "data": {
            "text/plain": [
              "<matplotlib.axes._subplots.AxesSubplot at 0x7eff287ab850>"
            ]
          },
          "metadata": {},
          "execution_count": 21
        },
        {
          "output_type": "display_data",
          "data": {
            "image/png": "[encoded data removed]",
            "text/plain": [
              "<Figure size 432x288 with 1 Axes>"
            ]
          },
          "metadata": {}
        }
      ]
    },
    {
      "cell_type": "code",
      "source": [
        "df_hcv_m=df_hcv.copy()"
      ],
      "metadata": {
        "id": "Ys5lIF-r3u1H"
      },
      "execution_count": 22,
      "outputs": []
    },
    {
      "cell_type": "code",
      "metadata": {
        "colab": {
          "base_uri": "https://localhost:8080/"
        },
        "id": "shX5xzTCnuJu",
        "outputId": "bca7d24c-4728-4733-bf06-a638da0b44d0"
      },
      "source": [
        "# Dropping columns for Multi-Collinearity greater than 80%\n",
        "df_hcv_m=df_hcv.copy()\n",
        "drop_columns = 0\n",
        "collinearity=0.80 #set Collinearity\n",
        "\n",
        "for i in range(0, len(df_hcv_m.columns)-1):\n",
        "    for j in range(i+1, len(df_hcv_m.columns)-1):\n",
        "        if((df_hcv_m.iloc[:, i].corr(df_hcv_m.iloc[:, j]) > collinearity) or (df_hcv_m.iloc[:, i].corr(df_hcv_m.iloc[:, j]) < -(collinearity))):\n",
        "            print(\"Correlation between \",  df_hcv_m.columns[i], \"and \",\n",
        "                  df_hcv_m.columns[j], \"high. Hence dropping \", df_hcv_m.columns[i])\n",
        "            drop_columns+=1\n",
        "            df_hcv_m = df_hcv_m.drop(columns=df_hcv_m.columns[i])\n",
        "            break\n",
        "if(drop_columns<1):\n",
        "  print(\"No Collinearity between varaibles greater than\",collinearity*100,\"%. So no variables dropped.\")\n"
      ],
      "execution_count": 23,
      "outputs": [
        {
          "output_type": "stream",
          "name": "stdout",
          "text": [
            "No Collinearity between varaibles greater than 80.0 %. So no variables dropped.\n"
          ]
        }
      ]
    },
    {
      "cell_type": "code",
      "metadata": {
        "colab": {
          "base_uri": "https://localhost:8080/",
          "height": 476
        },
        "id": "rHzf1_n9pmgf",
        "outputId": "01d31aa4-fc34-4c1c-e232-af89c0160c24"
      },
      "source": [
        "df_hcv_m"
      ],
      "execution_count": 24,
      "outputs": [
        {
          "output_type": "execute_result",
          "data": {
            "text/html": [
              "<div>\n",
              "<style scoped>\n",
              "    .dataframe tbody tr th:only-of-type {\n",
              "        vertical-align: middle;\n",
              "    }\n",
              "\n",
              "    .dataframe tbody tr th {\n",
              "        vertical-align: top;\n",
              "    }\n",
              "\n",
              "    .dataframe thead th {\n",
              "        text-align: right;\n",
              "    }\n",
              "</style>\n",
              "<table border=\"1\" class=\"dataframe\">\n",
              "  <thead>\n",
              "    <tr style=\"text-align: right;\">\n",
              "      <th></th>\n",
              "      <th>Age</th>\n",
              "      <th>Gender</th>\n",
              "      <th>BMI</th>\n",
              "      <th>Fever</th>\n",
              "      <th>Nausea/Vomting</th>\n",
              "      <th>Headache</th>\n",
              "      <th>Diarrhea</th>\n",
              "      <th>Fatigue &amp; generalized bone ache</th>\n",
              "      <th>Jaundice</th>\n",
              "      <th>Epigastric pain</th>\n",
              "      <th>WBC</th>\n",
              "      <th>RBC</th>\n",
              "      <th>HGB</th>\n",
              "      <th>Plat</th>\n",
              "      <th>AST 1</th>\n",
              "      <th>ALT 1</th>\n",
              "      <th>ALT4</th>\n",
              "      <th>ALT 12</th>\n",
              "      <th>ALT 24</th>\n",
              "      <th>ALT 36</th>\n",
              "      <th>ALT 48</th>\n",
              "      <th>ALT after 24 w</th>\n",
              "      <th>RNA Base</th>\n",
              "      <th>RNA 4</th>\n",
              "      <th>RNA 12</th>\n",
              "      <th>RNA EOT</th>\n",
              "      <th>RNA EF</th>\n",
              "      <th>Baseline histological Grading</th>\n",
              "      <th>Baselinehistological staging</th>\n",
              "    </tr>\n",
              "  </thead>\n",
              "  <tbody>\n",
              "    <tr>\n",
              "      <th>1</th>\n",
              "      <td>46</td>\n",
              "      <td>1</td>\n",
              "      <td>29</td>\n",
              "      <td>1</td>\n",
              "      <td>2</td>\n",
              "      <td>2</td>\n",
              "      <td>1</td>\n",
              "      <td>2</td>\n",
              "      <td>2</td>\n",
              "      <td>1</td>\n",
              "      <td>12101</td>\n",
              "      <td>4429425.0</td>\n",
              "      <td>10</td>\n",
              "      <td>129367.0</td>\n",
              "      <td>91</td>\n",
              "      <td>123</td>\n",
              "      <td>95.0</td>\n",
              "      <td>75</td>\n",
              "      <td>113</td>\n",
              "      <td>57</td>\n",
              "      <td>123</td>\n",
              "      <td>44</td>\n",
              "      <td>40620</td>\n",
              "      <td>538635</td>\n",
              "      <td>637056</td>\n",
              "      <td>336804</td>\n",
              "      <td>31085</td>\n",
              "      <td>4</td>\n",
              "      <td>2</td>\n",
              "    </tr>\n",
              "    <tr>\n",
              "      <th>3</th>\n",
              "      <td>49</td>\n",
              "      <td>2</td>\n",
              "      <td>33</td>\n",
              "      <td>1</td>\n",
              "      <td>2</td>\n",
              "      <td>1</td>\n",
              "      <td>2</td>\n",
              "      <td>1</td>\n",
              "      <td>2</td>\n",
              "      <td>1</td>\n",
              "      <td>6490</td>\n",
              "      <td>4794631.0</td>\n",
              "      <td>10</td>\n",
              "      <td>146457.0</td>\n",
              "      <td>43</td>\n",
              "      <td>64</td>\n",
              "      <td>109.0</td>\n",
              "      <td>80</td>\n",
              "      <td>88</td>\n",
              "      <td>48</td>\n",
              "      <td>77</td>\n",
              "      <td>33</td>\n",
              "      <td>1041941</td>\n",
              "      <td>449939</td>\n",
              "      <td>585688</td>\n",
              "      <td>744463</td>\n",
              "      <td>582301</td>\n",
              "      <td>10</td>\n",
              "      <td>3</td>\n",
              "    </tr>\n",
              "    <tr>\n",
              "      <th>5</th>\n",
              "      <td>58</td>\n",
              "      <td>2</td>\n",
              "      <td>22</td>\n",
              "      <td>2</td>\n",
              "      <td>2</td>\n",
              "      <td>2</td>\n",
              "      <td>1</td>\n",
              "      <td>2</td>\n",
              "      <td>2</td>\n",
              "      <td>1</td>\n",
              "      <td>11785</td>\n",
              "      <td>3882456.0</td>\n",
              "      <td>15</td>\n",
              "      <td>131228.0</td>\n",
              "      <td>66</td>\n",
              "      <td>104</td>\n",
              "      <td>121.0</td>\n",
              "      <td>96</td>\n",
              "      <td>65</td>\n",
              "      <td>73</td>\n",
              "      <td>114</td>\n",
              "      <td>29</td>\n",
              "      <td>1157452</td>\n",
              "      <td>1086852</td>\n",
              "      <td>5</td>\n",
              "      <td>5</td>\n",
              "      <td>5</td>\n",
              "      <td>4</td>\n",
              "      <td>4</td>\n",
              "    </tr>\n",
              "    <tr>\n",
              "      <th>6</th>\n",
              "      <td>42</td>\n",
              "      <td>2</td>\n",
              "      <td>26</td>\n",
              "      <td>1</td>\n",
              "      <td>1</td>\n",
              "      <td>2</td>\n",
              "      <td>2</td>\n",
              "      <td>2</td>\n",
              "      <td>2</td>\n",
              "      <td>2</td>\n",
              "      <td>11620</td>\n",
              "      <td>4747333.0</td>\n",
              "      <td>12</td>\n",
              "      <td>177261.0</td>\n",
              "      <td>78</td>\n",
              "      <td>57</td>\n",
              "      <td>113.0</td>\n",
              "      <td>118</td>\n",
              "      <td>107</td>\n",
              "      <td>84</td>\n",
              "      <td>80</td>\n",
              "      <td>28</td>\n",
              "      <td>325694</td>\n",
              "      <td>1034008</td>\n",
              "      <td>275095</td>\n",
              "      <td>214566</td>\n",
              "      <td>635157</td>\n",
              "      <td>12</td>\n",
              "      <td>4</td>\n",
              "    </tr>\n",
              "    <tr>\n",
              "      <th>7</th>\n",
              "      <td>48</td>\n",
              "      <td>2</td>\n",
              "      <td>30</td>\n",
              "      <td>1</td>\n",
              "      <td>1</td>\n",
              "      <td>2</td>\n",
              "      <td>2</td>\n",
              "      <td>1</td>\n",
              "      <td>1</td>\n",
              "      <td>2</td>\n",
              "      <td>7335</td>\n",
              "      <td>4405941.0</td>\n",
              "      <td>11</td>\n",
              "      <td>216176.0</td>\n",
              "      <td>119</td>\n",
              "      <td>112</td>\n",
              "      <td>80.0</td>\n",
              "      <td>127</td>\n",
              "      <td>45</td>\n",
              "      <td>96</td>\n",
              "      <td>53</td>\n",
              "      <td>39</td>\n",
              "      <td>641129</td>\n",
              "      <td>72050</td>\n",
              "      <td>787295</td>\n",
              "      <td>370605</td>\n",
              "      <td>506296</td>\n",
              "      <td>12</td>\n",
              "      <td>3</td>\n",
              "    </tr>\n",
              "    <tr>\n",
              "      <th>...</th>\n",
              "      <td>...</td>\n",
              "      <td>...</td>\n",
              "      <td>...</td>\n",
              "      <td>...</td>\n",
              "      <td>...</td>\n",
              "      <td>...</td>\n",
              "      <td>...</td>\n",
              "      <td>...</td>\n",
              "      <td>...</td>\n",
              "      <td>...</td>\n",
              "      <td>...</td>\n",
              "      <td>...</td>\n",
              "      <td>...</td>\n",
              "      <td>...</td>\n",
              "      <td>...</td>\n",
              "      <td>...</td>\n",
              "      <td>...</td>\n",
              "      <td>...</td>\n",
              "      <td>...</td>\n",
              "      <td>...</td>\n",
              "      <td>...</td>\n",
              "      <td>...</td>\n",
              "      <td>...</td>\n",
              "      <td>...</td>\n",
              "      <td>...</td>\n",
              "      <td>...</td>\n",
              "      <td>...</td>\n",
              "      <td>...</td>\n",
              "      <td>...</td>\n",
              "    </tr>\n",
              "    <tr>\n",
              "      <th>1380</th>\n",
              "      <td>44</td>\n",
              "      <td>1</td>\n",
              "      <td>29</td>\n",
              "      <td>1</td>\n",
              "      <td>2</td>\n",
              "      <td>2</td>\n",
              "      <td>2</td>\n",
              "      <td>1</td>\n",
              "      <td>1</td>\n",
              "      <td>1</td>\n",
              "      <td>7044</td>\n",
              "      <td>4957174.0</td>\n",
              "      <td>15</td>\n",
              "      <td>202520.0</td>\n",
              "      <td>122</td>\n",
              "      <td>59</td>\n",
              "      <td>78.0</td>\n",
              "      <td>106</td>\n",
              "      <td>127</td>\n",
              "      <td>63</td>\n",
              "      <td>44</td>\n",
              "      <td>45</td>\n",
              "      <td>387795</td>\n",
              "      <td>55938</td>\n",
              "      <td>5</td>\n",
              "      <td>5</td>\n",
              "      <td>5</td>\n",
              "      <td>15</td>\n",
              "      <td>4</td>\n",
              "    </tr>\n",
              "    <tr>\n",
              "      <th>1381</th>\n",
              "      <td>55</td>\n",
              "      <td>1</td>\n",
              "      <td>34</td>\n",
              "      <td>1</td>\n",
              "      <td>2</td>\n",
              "      <td>2</td>\n",
              "      <td>1</td>\n",
              "      <td>1</td>\n",
              "      <td>1</td>\n",
              "      <td>1</td>\n",
              "      <td>6207</td>\n",
              "      <td>4636951.0</td>\n",
              "      <td>10</td>\n",
              "      <td>115776.0</td>\n",
              "      <td>128</td>\n",
              "      <td>102</td>\n",
              "      <td>65.0</td>\n",
              "      <td>99</td>\n",
              "      <td>108</td>\n",
              "      <td>97</td>\n",
              "      <td>64</td>\n",
              "      <td>41</td>\n",
              "      <td>481378</td>\n",
              "      <td>152961</td>\n",
              "      <td>393339</td>\n",
              "      <td>73574</td>\n",
              "      <td>236273</td>\n",
              "      <td>10</td>\n",
              "      <td>2</td>\n",
              "    </tr>\n",
              "    <tr>\n",
              "      <th>1382</th>\n",
              "      <td>42</td>\n",
              "      <td>1</td>\n",
              "      <td>26</td>\n",
              "      <td>2</td>\n",
              "      <td>2</td>\n",
              "      <td>1</td>\n",
              "      <td>1</td>\n",
              "      <td>1</td>\n",
              "      <td>2</td>\n",
              "      <td>1</td>\n",
              "      <td>4913</td>\n",
              "      <td>4122038.0</td>\n",
              "      <td>14</td>\n",
              "      <td>128354.0</td>\n",
              "      <td>61</td>\n",
              "      <td>93</td>\n",
              "      <td>123.0</td>\n",
              "      <td>61</td>\n",
              "      <td>116</td>\n",
              "      <td>87</td>\n",
              "      <td>39</td>\n",
              "      <td>24</td>\n",
              "      <td>612664</td>\n",
              "      <td>572756</td>\n",
              "      <td>806109</td>\n",
              "      <td>343719</td>\n",
              "      <td>160457</td>\n",
              "      <td>6</td>\n",
              "      <td>2</td>\n",
              "    </tr>\n",
              "    <tr>\n",
              "      <th>1383</th>\n",
              "      <td>52</td>\n",
              "      <td>1</td>\n",
              "      <td>29</td>\n",
              "      <td>2</td>\n",
              "      <td>1</td>\n",
              "      <td>1</td>\n",
              "      <td>2</td>\n",
              "      <td>2</td>\n",
              "      <td>2</td>\n",
              "      <td>1</td>\n",
              "      <td>7257</td>\n",
              "      <td>4241990.0</td>\n",
              "      <td>10</td>\n",
              "      <td>205908.0</td>\n",
              "      <td>70</td>\n",
              "      <td>97</td>\n",
              "      <td>104.0</td>\n",
              "      <td>74</td>\n",
              "      <td>47</td>\n",
              "      <td>48</td>\n",
              "      <td>81</td>\n",
              "      <td>43</td>\n",
              "      <td>139872</td>\n",
              "      <td>76161</td>\n",
              "      <td>515730</td>\n",
              "      <td>2460</td>\n",
              "      <td>696074</td>\n",
              "      <td>15</td>\n",
              "      <td>3</td>\n",
              "    </tr>\n",
              "    <tr>\n",
              "      <th>1384</th>\n",
              "      <td>55</td>\n",
              "      <td>2</td>\n",
              "      <td>26</td>\n",
              "      <td>1</td>\n",
              "      <td>2</td>\n",
              "      <td>2</td>\n",
              "      <td>2</td>\n",
              "      <td>1</td>\n",
              "      <td>2</td>\n",
              "      <td>1</td>\n",
              "      <td>11832</td>\n",
              "      <td>4059176.0</td>\n",
              "      <td>14</td>\n",
              "      <td>136615.0</td>\n",
              "      <td>51</td>\n",
              "      <td>126</td>\n",
              "      <td>39.0</td>\n",
              "      <td>68</td>\n",
              "      <td>115</td>\n",
              "      <td>64</td>\n",
              "      <td>71</td>\n",
              "      <td>34</td>\n",
              "      <td>1190577</td>\n",
              "      <td>628730</td>\n",
              "      <td>5</td>\n",
              "      <td>5</td>\n",
              "      <td>5</td>\n",
              "      <td>13</td>\n",
              "      <td>3</td>\n",
              "    </tr>\n",
              "  </tbody>\n",
              "</table>\n",
              "<p>1324 rows × 29 columns</p>\n",
              "</div>"
            ],
            "text/plain": [
              "      Age   Gender  ...  Baseline histological Grading  Baselinehistological staging\n",
              "1       46       1  ...                              4                             2\n",
              "3       49       2  ...                             10                             3\n",
              "5       58       2  ...                              4                             4\n",
              "6       42       2  ...                             12                             4\n",
              "7       48       2  ...                             12                             3\n",
              "...    ...     ...  ...                            ...                           ...\n",
              "1380    44       1  ...                             15                             4\n",
              "1381    55       1  ...                             10                             2\n",
              "1382    42       1  ...                              6                             2\n",
              "1383    52       1  ...                             15                             3\n",
              "1384    55       2  ...                             13                             3\n",
              "\n",
              "[1324 rows x 29 columns]"
            ]
          },
          "metadata": {},
          "execution_count": 24
        }
      ]
    },
    {
      "cell_type": "markdown",
      "source": [
        "# Response Variable Binning"
      ],
      "metadata": {
        "id": "q9IAt-Dx2aN3"
      }
    },
    {
      "cell_type": "code",
      "metadata": {
        "id": "3XNwM4As0j3y"
      },
      "source": [
        "# Converting the response variable into 0 and 1\n",
        "\n",
        "df_hcv_m.iloc[:,-1]=np.where(df_hcv_m.iloc[:,-1]<3,0 ,1)"
      ],
      "execution_count": 25,
      "outputs": []
    },
    {
      "cell_type": "code",
      "metadata": {
        "colab": {
          "base_uri": "https://localhost:8080/"
        },
        "id": "6nh9c3zy0zeS",
        "outputId": "88dffaf3-571d-4a2e-f7a0-f08dff920b41"
      },
      "source": [
        "df_hcv_m['Baselinehistological staging'].value_counts()\n",
        "\n",
        "# As classes are fairly balanced Oversampling is not needed"
      ],
      "execution_count": 26,
      "outputs": [
        {
          "output_type": "execute_result",
          "data": {
            "text/plain": [
              "1    685\n",
              "0    639\n",
              "Name: Baselinehistological staging, dtype: int64"
            ]
          },
          "metadata": {},
          "execution_count": 26
        }
      ]
    },
    {
      "cell_type": "markdown",
      "source": [
        "# Split Data"
      ],
      "metadata": {
        "id": "JT9UYDGD2CgN"
      }
    },
    {
      "cell_type": "code",
      "metadata": {
        "id": "TGuq86X8Qp6I"
      },
      "source": [
        "# Splitting data into test and train\n",
        "X_train,X_test,y_train,y_test=train_test_split(df_hcv_m.iloc[:,0:-1],df_hcv_m.iloc[:,-1],test_size=0.3,random_state=0)"
      ],
      "execution_count": 27,
      "outputs": []
    },
    {
      "cell_type": "markdown",
      "source": [
        "# Standard Scaling"
      ],
      "metadata": {
        "id": "5d_rHrCZ17A6"
      }
    },
    {
      "cell_type": "code",
      "source": [
        "class Scaling:\n",
        "    def __init__ (self, X_train,X_test,y_train,y_test):\n",
        "      self.X_train=X_train\n",
        "      self.X_test=X_test\n",
        "      self.y_train=y_train\n",
        "      self.y_test=y_test\n",
        "      self.X_train, self.mean, self.std = self.normalize(self.X_train) \n",
        "      self.X_test = self.normalizeTestData(self.X_test, self.mean, self.std) \n",
        "                    \n",
        "    #def add_x0(self,X):\n",
        "     # return np.column_stack([np.ones([X.shape[0], 1]),X])\n",
        "    def normalize(self, X):\n",
        "      mean = np.mean(X, axis=0)\n",
        "      std = np.std(X, axis=0)\n",
        "    \n",
        "      X_norm = (X - mean) / std\n",
        "      #X_norm = self.add_x0(X_norm)\n",
        "      return X_norm, mean, std\n",
        "    \n",
        "    #normalize test\n",
        "    def normalizeTestData(self, X, train_mean, train_std):\n",
        "      X_norm = (X - train_mean) / train_std \n",
        "      #X_norm = self.add_x0(X_norm)\n",
        "      return X_norm\n",
        "\n",
        "    def train_test(self):\n",
        "      return self.X_train\n",
        "    \n",
        "    def test(self):\n",
        "      return self.X_test\n"
      ],
      "metadata": {
        "id": "AZLD8Ke1C7sJ"
      },
      "execution_count": 28,
      "outputs": []
    },
    {
      "cell_type": "code",
      "source": [
        "# Invoke Scaling\n",
        "sc=Scaling(X_train, X_test, y_train,y_test)\n",
        "X_train=sc.train_test()\n",
        "X_test=sc.test()"
      ],
      "metadata": {
        "id": "-brhJTSiEfGW"
      },
      "execution_count": 29,
      "outputs": []
    },
    {
      "cell_type": "markdown",
      "source": [
        "# Logistic Regression"
      ],
      "metadata": {
        "id": "Yl5VAYOSzzwB"
      }
    },
    {
      "cell_type": "code",
      "metadata": {
        "id": "J0mWSU8od62W"
      },
      "source": [
        "class LogisticRegression:\n",
        "    \n",
        "    def __init__ (self, learningRate, tolerance,train_df,test_df,y_train,y_test,ri=[],maxIteration=1000):\n",
        "        self.learningRate=learningRate\n",
        "        self.tolerance=tolerance\n",
        "        self.maxIteration=maxIteration\n",
        "        self.ri=ri\n",
        "        self.train_df=train_df\n",
        "        self.test_df=test_df\n",
        "        self.y_train=y_train\n",
        "        self.y_test=y_test\n",
        "\n",
        "    \n",
        "    def datasetRead(self):\n",
        "      train_df, test_df = np.array(X_train, dtype=np.float64), np.array(X_test, dtype=np.float64) \n",
        "      train_df_y, test_df_y = np.array(y_train, dtype=np.float64), np.array(y_test, dtype=np.float64)   \n",
        "    #X_train, y_train= train_df[:,:], train_df[:,]\n",
        "    #X_test, y_test= test_df[:,1:], test_df[:,0]\n",
        "      return (train_df, test_df, train_df_y, test_df_y)\n",
        "\n",
        "    def add_x0(self,X):\n",
        "      return np.column_stack([np.ones([X.shape[0], 1]),X])\n",
        "    def normalize(self, X):\n",
        "      mean = np.mean(X, axis=0)\n",
        "      std = np.std(X, axis=0)\n",
        "    \n",
        "      X_norm = (X - mean) / std\n",
        "      X_norm = self.add_x0(X_norm)\n",
        "      return X_norm, mean, std\n",
        "    \n",
        "    \n",
        "    #normalize test\n",
        "    def normalizeTestData(self, X, train_mean, train_std):\n",
        "      X_norm = (X - train_mean) / train_std \n",
        "      X_norm = self.add_x0(X_norm)\n",
        "      return X_norm\n",
        " \n",
        "    \n",
        "    def sigmoid(self,z):\n",
        "        sig=1/(1+np.exp(-z))\n",
        "        return sig\n",
        "    \n",
        "    def costFunction(self,X,y):\n",
        "        pred_ = np.log(np.ones(X.shape[0]) + np.exp(X.dot(self.w))) - X.dot(self.w).dot(y) #negative log likelihood\n",
        "        cost=pred_.sum()\n",
        "        \n",
        "        return cost\n",
        "    \n",
        "    def gradient(self,X,y):\n",
        "        sig=self.sigmoid(X.dot(self.w))\n",
        "        grad=(sig-y).dot(X)\n",
        "        return grad   # We get gradient per column\n",
        "    \n",
        "    def gradientDescent(self,X,y):\n",
        "        \n",
        "        cost_sequences=[]\n",
        "        last_cost=float('inf')\n",
        "        \n",
        "        for i in tqdm(range(self.maxIteration)):\n",
        "            self.w=self.w-self.learningRate* self.gradient(X,y)\n",
        "            cur_cost=self.costFunction(X,y)\n",
        "            diff=last_cost - cur_cost\n",
        "            \n",
        "            last_cost=cur_cost\n",
        "            cost_sequences.append(cur_cost)\n",
        "            \n",
        "            if diff<self.tolerance:\n",
        "                print(\"The model stoppped  - Converged\")\n",
        "                break\n",
        "                \n",
        "        #self.plot_cost(cost_sequences)\n",
        "        return\n",
        "    \n",
        "    def predict(self,X):\n",
        "        sig=self.sigmoid(X.dot(self.w))\n",
        "        return np.around(sig) # if above 0.5 then 1 else 0\n",
        "    \n",
        "    def evaluate(self,y,y_hat):\n",
        "        y=(y==1)\n",
        "        y_hat=(y_hat == 1)\n",
        "        accuracy =(y == y_hat).sum() / y.size\n",
        "        precision=(y & y_hat).sum()/y_hat.sum() # Total postive vs total\n",
        "        recall=(y & y_hat).sum() / y.sum()\n",
        "        return accuracy,precision,recall\n",
        "    \n",
        "    def remove_index(self,arr,X_train,y_train):\n",
        "        ind=arr\n",
        "        for i in arr:\n",
        "            #print(i)\n",
        "            X_train,y_train=np.delete(X_train,i, axis=0),np.delete(y_train,i, axis=0)\n",
        "        return X_train,y_train\n",
        "    \n",
        "    def runModel(self):\n",
        "        self.X_train,self.X_test,self.y_train,self.y_test = self.datasetRead()\n",
        "        #self.X_train, self.mean, self.std = self.normalize(self.X_train) \n",
        "        #self.X_test = self.normalizeTestData(self.X_test, self.mean, self.std) \n",
        "        if(len(self.ri)>0):\n",
        "            self.X_train,self.y_train=self.remove_index(self.ri,self.X_train,self.y_train)\n",
        "        print(\"Solving using gradient descent\")\n",
        "        self.w=np.ones(self.X_train.shape[1],dtype =np.float64) * 0\n",
        "        self.gradientDescent(self.X_train,self.y_train)\n",
        "        \n",
        "        #print(self.w)\n",
        "        y_hat_train=self.predict(self.X_train)\n",
        "        accuracy,precision,recall =self.evaluate(self.y_train,y_hat_train)\n",
        "        print(\"Accuracy:\",np.round(accuracy,2))\n",
        "        print(\"Precision:\", np.round(precision,2))\n",
        "        print(\"Recall:\", np.round(recall,2))\n",
        "        #print(y_hat_train, \"check\", y_train )\n",
        "\n",
        "                #print(self.w)\n",
        "        y_hat_test=self.predict(self.X_test)\n",
        "        accuracy,precision,recall =self.evaluate(self.y_test,y_hat_test)\n",
        "        print(\"\\n\\nEvaluate for Testing data: \\n\")\n",
        "        print(\"Accuracy:\",np.round(accuracy,2))\n",
        "        print(\"Precision:\", np.round(precision,2))\n",
        "        print(\"Recall:\", np.round(recall,2))"
      ],
      "execution_count": 30,
      "outputs": []
    },
    {
      "cell_type": "code",
      "source": [
        "for k in [0.1,0.2,0.3,0.4,0.5]:\n",
        "  print(\"\\nTest size:\", k*100,\"%\\n\")\n",
        "  X_train,X_test,y_train,y_test=train_test_split(df_hcv_m.iloc[:,0:-1],df_hcv_m.iloc[:,-1],test_size=k,random_state=0)\n",
        "  # Invoke Scaling\n",
        "  sc=Scaling(X_train, X_test, y_train,y_test)\n",
        "  X_train=sc.train_test()\n",
        "  X_test=sc.test()\n",
        "  lr=LogisticRegression(tolerance=0.0,learningRate=0.1e-5,maxIteration=10000,train_df=X_train,test_df=X_test,y_train=y_train,y_test=y_test)\n",
        "  lr.runModel()"
      ],
      "metadata": {
        "colab": {
          "base_uri": "https://localhost:8080/"
        },
        "id": "7IqQfpAQqi0j",
        "outputId": "17939204-31af-45dd-8bfd-c525018ce498"
      },
      "execution_count": 31,
      "outputs": [
        {
          "output_type": "stream",
          "name": "stdout",
          "text": [
            "\n",
            "Test size: 10.0 %\n",
            "\n",
            "Solving using gradient descent\n"
          ]
        },
        {
          "output_type": "stream",
          "name": "stderr",
          "text": [
            "100%|██████████| 10000/10000 [00:02<00:00, 4461.23it/s]\n"
          ]
        },
        {
          "output_type": "stream",
          "name": "stdout",
          "text": [
            "Accuracy: 0.57\n",
            "Precision: 0.59\n",
            "Recall: 0.58\n",
            "\n",
            "\n",
            "Evaluate for Testing data: \n",
            "\n",
            "Accuracy: 0.46\n",
            "Precision: 0.48\n",
            "Recall: 0.37\n",
            "\n",
            "Test size: 20.0 %\n",
            "\n",
            "Solving using gradient descent\n"
          ]
        },
        {
          "output_type": "stream",
          "name": "stderr",
          "text": [
            "100%|██████████| 10000/10000 [00:01<00:00, 5126.38it/s]\n"
          ]
        },
        {
          "output_type": "stream",
          "name": "stdout",
          "text": [
            "Accuracy: 0.58\n",
            "Precision: 0.6\n",
            "Recall: 0.58\n",
            "\n",
            "\n",
            "Evaluate for Testing data: \n",
            "\n",
            "Accuracy: 0.48\n",
            "Precision: 0.49\n",
            "Recall: 0.44\n",
            "\n",
            "Test size: 30.0 %\n",
            "\n",
            "Solving using gradient descent\n"
          ]
        },
        {
          "output_type": "stream",
          "name": "stderr",
          "text": [
            "100%|██████████| 10000/10000 [00:01<00:00, 5571.03it/s]\n"
          ]
        },
        {
          "output_type": "stream",
          "name": "stdout",
          "text": [
            "Accuracy: 0.58\n",
            "Precision: 0.6\n",
            "Recall: 0.58\n",
            "\n",
            "\n",
            "Evaluate for Testing data: \n",
            "\n",
            "Accuracy: 0.48\n",
            "Precision: 0.51\n",
            "Recall: 0.46\n",
            "\n",
            "Test size: 40.0 %\n",
            "\n",
            "Solving using gradient descent\n"
          ]
        },
        {
          "output_type": "stream",
          "name": "stderr",
          "text": [
            "100%|██████████| 10000/10000 [00:01<00:00, 6031.78it/s]\n"
          ]
        },
        {
          "output_type": "stream",
          "name": "stdout",
          "text": [
            "Accuracy: 0.58\n",
            "Precision: 0.59\n",
            "Recall: 0.57\n",
            "\n",
            "\n",
            "Evaluate for Testing data: \n",
            "\n",
            "Accuracy: 0.5\n",
            "Precision: 0.53\n",
            "Recall: 0.48\n",
            "\n",
            "Test size: 50.0 %\n",
            "\n",
            "Solving using gradient descent\n"
          ]
        },
        {
          "output_type": "stream",
          "name": "stderr",
          "text": [
            "100%|██████████| 10000/10000 [00:01<00:00, 7107.22it/s]"
          ]
        },
        {
          "output_type": "stream",
          "name": "stdout",
          "text": [
            "Accuracy: 0.58\n",
            "Precision: 0.59\n",
            "Recall: 0.57\n",
            "\n",
            "\n",
            "Evaluate for Testing data: \n",
            "\n",
            "Accuracy: 0.51\n",
            "Precision: 0.55\n",
            "Recall: 0.47\n"
          ]
        },
        {
          "output_type": "stream",
          "name": "stderr",
          "text": [
            "\n"
          ]
        }
      ]
    },
    {
      "cell_type": "code",
      "metadata": {
        "id": "Twmx6_LRij2R"
      },
      "source": [
        "# Run Logistic model\n",
        "#lr=LogisticRegression(tolerance=0.0,learningRate=0.1e-5,maxIteration=10000,train_df=X_train,test_df=X_test,y_train=y_train,y_test=y_test)\n",
        "#lr.runModel()"
      ],
      "execution_count": 32,
      "outputs": []
    },
    {
      "cell_type": "code",
      "metadata": {
        "id": "zM8A8cdvMzTB",
        "outputId": "334a0a78-371a-4395-d469-982b342d4d7f",
        "colab": {
          "base_uri": "https://localhost:8080/"
        }
      },
      "source": [
        "#Implementation of logistic regression using Scikit learn\n",
        "\n",
        "from sklearn.linear_model import LogisticRegression\n",
        "\n",
        "from sklearn.metrics import classification_report\n",
        "\n",
        "model = LogisticRegression(random_state=0).fit(X_train, y_train)\n",
        "\n",
        "pred = model.predict(X_test)\n",
        "\n",
        "print(classification_report(y_test, pred))\n",
        "\n",
        "#print(model.coef_)"
      ],
      "execution_count": 33,
      "outputs": [
        {
          "output_type": "stream",
          "name": "stdout",
          "text": [
            "              precision    recall  f1-score   support\n",
            "\n",
            "           0       0.48      0.53      0.50       310\n",
            "           1       0.54      0.48      0.51       352\n",
            "\n",
            "    accuracy                           0.51       662\n",
            "   macro avg       0.51      0.51      0.51       662\n",
            "weighted avg       0.51      0.51      0.51       662\n",
            "\n"
          ]
        }
      ]
    },
    {
      "cell_type": "markdown",
      "source": [
        "# Hard Margin SVM"
      ],
      "metadata": {
        "id": "Nr9SP2C4ztcn"
      }
    },
    {
      "cell_type": "code",
      "source": [
        "class HardMarginSVM:\n",
        "    \n",
        "    def __init__(self, learning_rate = 0.00001, lamda = 0.001, n_iters=100):\n",
        "        self.learning_rate = learning_rate\n",
        "        self.lamda = lamda\n",
        "        self.n_iters = n_iters\n",
        "        self.w = None\n",
        "        self.b = None\n",
        "\n",
        "        \n",
        "    def fit(self, X, y):\n",
        "        n_samples, n_features = X.shape\n",
        "        y_ = np.where(y<=0,-1,1) #convert y values to -1 and +1\n",
        "        \n",
        "        self.w = np.zeros(n_features)\n",
        "        self.b = 0\n",
        "        \n",
        "        for i in range(self.n_iters):\n",
        "            for idx, x_i in enumerate(X):\n",
        "                condition = y_[idx] * (np.dot(x_i, self.w) + self.b) >=1\n",
        "                \n",
        "                if condition:\n",
        "                    self.w = self.w + self.learning_rate *(2 * self.lamda * self.w)\n",
        "                else:\n",
        "                    self.w = self.w - self.learning_rate *(2 * self.lamda * self.w - np.dot(x_i, y_[idx]))\n",
        "                    self.b = self.b - self.learning_rate * (-y_[idx])\n",
        "    \n",
        "    def predict(self, X,Y):\n",
        "        approx = np.dot(X,self.w) + self.b\n",
        "        y_hat_test=np.sign(approx)\n",
        "        accuracy,precision,recall =self.evaluate(Y,y_hat_test)\n",
        "        #print(\"Evaluate for data: \\n\")\n",
        "        print(\"Accuracy:\",np.round(accuracy,2))\n",
        "        print(\"Precision:\", np.round(precision,2))\n",
        "        print(\"Recall:\", np.round(recall,2))\n",
        "        #return accuracy,precision,recall\n",
        "    \n",
        "    def evaluate(self,y,y_hat):\n",
        "        y=(y==1)\n",
        "        y_hat=(y_hat == 1)\n",
        "        accuracy =(y == y_hat).sum() / y.size\n",
        "        precision=(y & y_hat).sum()/y_hat.sum() # Total postive vs total\n",
        "        recall=(y & y_hat).sum() / y.sum()\n",
        "        return accuracy, precision,recall\n"
      ],
      "metadata": {
        "id": "ooKEZdoQ49zM"
      },
      "execution_count": 34,
      "outputs": []
    },
    {
      "cell_type": "code",
      "metadata": {
        "id": "pzGcoRNHF9VM"
      },
      "source": [
        "#y_train=np.where(y_train<1,-1 ,1)\n",
        "#y_test=np.where(y_test<1,-1 ,1)"
      ],
      "execution_count": 35,
      "outputs": []
    },
    {
      "cell_type": "code",
      "metadata": {
        "colab": {
          "base_uri": "https://localhost:8080/"
        },
        "id": "BIpZQCHKHjHM",
        "outputId": "ab0dc392-c3c4-43f0-b09d-d3bd75756929"
      },
      "source": [
        "# Training Metrics\n",
        "for k in [0.1,0.2,0.3,0.4,0.5]:\n",
        "  print(\"\\nTest size:\", k*100,\"%\\n\")\n",
        "  X_train,X_test,y_train,y_test=train_test_split(df_hcv_m.iloc[:,0:-1],df_hcv_m.iloc[:,-1],test_size=k,random_state=0)\n",
        "  # Invoke Scaling\n",
        "  sc=Scaling(X_train, X_test, y_train,y_test)\n",
        "  X_train=sc.train_test()\n",
        "  X_test=sc.test()\n",
        "  clf = HardMarginSVM()\n",
        "  print(\"Training Data\") \n",
        "  clf.fit(np.array(X_train),np.array(y_train))\n",
        "  clf.predict(np.array(X_train),np.array(y_train))\n",
        "  # Test Metrics \n",
        "  print(\"\\nTesting Data\")\n",
        "  clf.predict(np.array(X_test),np.array(y_test))"
      ],
      "execution_count": 36,
      "outputs": [
        {
          "output_type": "stream",
          "name": "stdout",
          "text": [
            "\n",
            "Test size: 10.0 %\n",
            "\n",
            "Training Data\n",
            "Accuracy: 0.56\n",
            "Precision: 0.57\n",
            "Recall: 0.63\n",
            "\n",
            "Testing Data\n",
            "Accuracy: 0.48\n",
            "Precision: 0.51\n",
            "Recall: 0.46\n",
            "\n",
            "Test size: 20.0 %\n",
            "\n",
            "Training Data\n",
            "Accuracy: 0.57\n",
            "Precision: 0.57\n",
            "Recall: 0.64\n",
            "\n",
            "Testing Data\n",
            "Accuracy: 0.47\n",
            "Precision: 0.49\n",
            "Recall: 0.51\n",
            "\n",
            "Test size: 30.0 %\n",
            "\n",
            "Training Data\n",
            "Accuracy: 0.58\n",
            "Precision: 0.58\n",
            "Recall: 0.64\n",
            "\n",
            "Testing Data\n",
            "Accuracy: 0.48\n",
            "Precision: 0.5\n",
            "Recall: 0.5\n",
            "\n",
            "Test size: 40.0 %\n",
            "\n",
            "Training Data\n",
            "Accuracy: 0.58\n",
            "Precision: 0.58\n",
            "Recall: 0.6\n",
            "\n",
            "Testing Data\n",
            "Accuracy: 0.52\n",
            "Precision: 0.55\n",
            "Recall: 0.5\n",
            "\n",
            "Test size: 50.0 %\n",
            "\n",
            "Training Data\n",
            "Accuracy: 0.59\n",
            "Precision: 0.59\n",
            "Recall: 0.59\n",
            "\n",
            "Testing Data\n",
            "Accuracy: 0.5\n",
            "Precision: 0.53\n",
            "Recall: 0.47\n"
          ]
        }
      ]
    },
    {
      "cell_type": "markdown",
      "source": [
        "# Naive Bayes"
      ],
      "metadata": {
        "id": "HKdfPjBhznfX"
      }
    },
    {
      "cell_type": "code",
      "source": [
        "# Chaitanya Swan\n",
        "class NaiveBayes:\n",
        "\n",
        "  def __init__(self, X_train,X_test,y_train,y_test):\n",
        "    self.X_train = X_train\n",
        "    self.X_test = X_test\n",
        "    self.y_train = y_train\n",
        "    self.y_test = y_test\n",
        "    self.y_hat_arr=[]\n",
        "\n",
        "  def fitDistribution(self, data):\n",
        "    mu = np.mean(data)\n",
        "    sigma = np.std(data)\n",
        "\n",
        "    dist = norm(mu, sigma)\n",
        "    return dist\n",
        "\n",
        "  def probability(self, X, prior, dist1):\n",
        "    self.distn_pdf=prior\n",
        "    for j in range(len(X)):\n",
        "      self.distn_pdf=self.distn_pdf * (dist1[j].pdf(X[j]))\n",
        "    return self.distn_pdf\n",
        "\n",
        "  def runModel(self):\n",
        "    #self.trainTestSplit()\n",
        "    self.X0_train = self.X_train[self.y_train == 0]\n",
        "    self.X1_train = self.X_train[self.y_train == 1]\n",
        "\n",
        "    #Calculate priors\n",
        "    self.prior_y0 = len(self.X0_train)/len(self.X_train)\n",
        "    self.prior_y1 = len(self.X1_train)/len(self.X_train)\n",
        "\n",
        "    #Create PDFs for class 0\n",
        "    self.dist_Xny0=[]\n",
        "    self.dist_Xny1=[]\n",
        "    for i in range(self.X_train.shape[1]):\n",
        "\n",
        "      self.dist_Xny0.append(self.fitDistribution(self.X0_train[:,i]))\n",
        "      self.dist_Xny1.append(self.fitDistribution(self.X1_train[:,i]))\n",
        "\n",
        "  def predict(self):\n",
        "    y_hat_train_arr=[]\n",
        "    y_hat_test_arr=[]\n",
        "\n",
        "    for sample, target in zip(self.X_train, self.y_train):\n",
        "      #py0 = self.probability(sample, self.prior_y0, self.dist_X0y0, self.dist_X1y0,self.dist_X2y0)\n",
        "      #py1 = self.probability(sample, self.prior_y1, self.dist_X0y1, self.dist_X1y1,self.dist_X2y1)\n",
        "      py0 = self.probability(sample, self.prior_y0, self.dist_Xny0)\n",
        "      py1 = self.probability(sample, self.prior_y1, self.dist_Xny1)\n",
        "      y_hat_train= np.argmax([py0*100, py1*100])\n",
        "      y_hat_train_arr.append(y_hat_train)\n",
        "    accuracy,precision,recall =self.evaluate(self.y_train,np.where(np.array(y_hat_train_arr)==1,True ,False))\n",
        "    print(\"Evaluate for trainning data: \\n\")\n",
        "    print(\"Accuracy:\",np.round(accuracy,2))\n",
        "    print(\"Precision:\", np.round(precision,2))\n",
        "    print(\"Recall:\", np.round(recall,2))\n",
        "\n",
        "    for sample, target in zip(self.X_test, self.y_test):\n",
        "       py0 = self.probability(sample, self.prior_y0, self.dist_Xny0)\n",
        "       py1 = self.probability(sample, self.prior_y1, self.dist_Xny1)\n",
        "       y_hat_test= np.argmax([py0*100, py1*100])\n",
        "       y_hat_test_arr.append(y_hat_test)\n",
        "    accuracy,precision,recall =self.evaluate(self.y_test,np.where(np.array(y_hat_test_arr)==1,True ,False))\n",
        "    print(\"\\n\\nEvaluate for Testing data: \\n\")\n",
        "    print(\"Accuracy:\",np.round(accuracy,2))\n",
        "    print(\"Precision:\", np.round(precision,2))\n",
        "    print(\"Recall:\", np.round(recall,2))\n",
        "\n",
        "  def evaluate(self,y,y_hat):\n",
        "        y=(y==1)\n",
        "        y_hat=(y_hat == 1)\n",
        "        accuracy =(y == y_hat).sum() / y.size\n",
        "        #print(y_hat)\n",
        "        precision=(y & y_hat).sum()/y_hat.sum() # Total postive vs total  \n",
        "        recall=(y & y_hat).sum() / y.sum()\n",
        "        return accuracy, precision,recall\n",
        "\n"
      ],
      "metadata": {
        "id": "F4jtMdWTUGHN"
      },
      "execution_count": 37,
      "outputs": []
    },
    {
      "cell_type": "code",
      "source": [
        "# Call Naive Bayes\n",
        "for k in [0.1,0.2,0.3,0.4,0.5]:\n",
        "  print(\"\\n\\nTest size:\", k*100,\"%\\n\")\n",
        "  X_train,X_test,y_train,y_test=train_test_split(df_hcv_m.iloc[:,0:-1],df_hcv_m.iloc[:,-1],test_size=k,random_state=0)\n",
        "  # Invoke Scaling\n",
        "  sc=Scaling(X_train, X_test, y_train,y_test)\n",
        "  X_train=sc.train_test()\n",
        "  X_test=sc.test()\n",
        "  nb=NaiveBayes(np.array(X_train, dtype=np.float64),np.array(X_test, dtype=np.float64),np.array(y_train, dtype=np.float64),np.array(y_test, dtype=np.float64))\n",
        "  nb.runModel()\n",
        "  nb.predict()"
      ],
      "metadata": {
        "colab": {
          "base_uri": "https://localhost:8080/"
        },
        "id": "zLkj1hyCgyQ4",
        "outputId": "7af17b58-ee2c-4fb9-b669-a9c1420e53a6"
      },
      "execution_count": 38,
      "outputs": [
        {
          "output_type": "stream",
          "name": "stdout",
          "text": [
            "\n",
            "\n",
            "Test size: 10.0 %\n",
            "\n",
            "Evaluate for trainning data: \n",
            "\n",
            "Accuracy: 0.56\n",
            "Precision: 0.57\n",
            "Recall: 0.63\n",
            "\n",
            "\n",
            "Evaluate for Testing data: \n",
            "\n",
            "Accuracy: 0.46\n",
            "Precision: 0.48\n",
            "Recall: 0.44\n",
            "\n",
            "\n",
            "Test size: 20.0 %\n",
            "\n",
            "Evaluate for trainning data: \n",
            "\n",
            "Accuracy: 0.58\n",
            "Precision: 0.58\n",
            "Recall: 0.65\n",
            "\n",
            "\n",
            "Evaluate for Testing data: \n",
            "\n",
            "Accuracy: 0.46\n",
            "Precision: 0.48\n",
            "Recall: 0.5\n",
            "\n",
            "\n",
            "Test size: 30.0 %\n",
            "\n",
            "Evaluate for trainning data: \n",
            "\n",
            "Accuracy: 0.59\n",
            "Precision: 0.6\n",
            "Recall: 0.65\n",
            "\n",
            "\n",
            "Evaluate for Testing data: \n",
            "\n",
            "Accuracy: 0.48\n",
            "Precision: 0.5\n",
            "Recall: 0.51\n",
            "\n",
            "\n",
            "Test size: 40.0 %\n",
            "\n",
            "Evaluate for trainning data: \n",
            "\n",
            "Accuracy: 0.59\n",
            "Precision: 0.59\n",
            "Recall: 0.6\n",
            "\n",
            "\n",
            "Evaluate for Testing data: \n",
            "\n",
            "Accuracy: 0.49\n",
            "Precision: 0.52\n",
            "Recall: 0.48\n",
            "\n",
            "\n",
            "Test size: 50.0 %\n",
            "\n",
            "Evaluate for trainning data: \n",
            "\n",
            "Accuracy: 0.61\n",
            "Precision: 0.61\n",
            "Recall: 0.61\n",
            "\n",
            "\n",
            "Evaluate for Testing data: \n",
            "\n",
            "Accuracy: 0.5\n",
            "Precision: 0.54\n",
            "Recall: 0.48\n"
          ]
        }
      ]
    },
    {
      "cell_type": "markdown",
      "source": [
        "# KNN"
      ],
      "metadata": {
        "id": "-T-Pj6z1zf68"
      }
    },
    {
      "cell_type": "code",
      "source": [
        "class KNN:\n",
        "  def __init__(self, neighbors,X_train,X_test,y_train,y_test):\n",
        "    self.neighbors = neighbors\n",
        "    self.X_train=X_train\n",
        "    self.X_test=X_test\n",
        "    self.y_train=y_train\n",
        "    self.y_test=y_test\n",
        "    \n",
        "  def datasetRead(self):\n",
        "    train_df, test_df = np.array(X_train, dtype=np.float64), np.array(X_test, dtype=np.float64) \n",
        "    train_df_y, test_df_y = np.array(y_train, dtype=np.float64), np.array(y_test, dtype=np.float64)   \n",
        "    #X_train, y_train= train_df[:,:], train_df[:,]\n",
        "    #X_test, y_test= test_df[:,1:], test_df[:,0]\n",
        "    return (train_df, test_df, train_df_y, test_df_y)\n",
        "\n",
        "  def add_x0(self,X):\n",
        "    return np.column_stack([np.ones([X.shape[0], 1]),X])\n",
        "\n",
        "  def normalize(self, X):\n",
        "    mean = np.mean(X, axis=0)\n",
        "    std = np.std(X, axis=0)\n",
        "    \n",
        "    X_norm = (X - mean) / std\n",
        "    X_norm = self.add_x0(X_norm)\n",
        "    return X_norm, mean, std\n",
        "    \n",
        "    \n",
        "    #normalize test\n",
        "  def normalizeTestData(self, X, train_mean, train_std):\n",
        "    X_norm = (X - train_mean) / train_std \n",
        "    X_norm = self.add_x0(X_norm)\n",
        "    return X_norm\n",
        "  \n",
        "#Euclidean Distance\n",
        "  def eucledian(self,p1,p2):\n",
        "      dist = np.sqrt(np.sum((p1-p2)**2))\n",
        "      return dist\n",
        "\n",
        "  def evaluate(self,y,y_hat):\n",
        "    y=(y==1)\n",
        "    \n",
        "    y_hat=(y_hat == 1)\n",
        "    #print(y, \"  \",y_hat)\n",
        "    accuracy =(y == y_hat).sum() / y.size\n",
        "    precision=(y & y_hat).sum()/y_hat.sum() # Total postive vs total\n",
        "    recall=(y & y_hat).sum() / y.sum()\n",
        "    return accuracy, precision,recall\n",
        "\n",
        "  def runModel(self):\n",
        "    self.X_train,self.X_test,self.y_train,self.y_test = self.datasetRead()\n",
        "    #self.X_train, self.mean, self.std = self.normalize(self.X_train) \n",
        "    #self.X_test = self.normalizeTestData(self.X_test, self.mean, self.std) \n",
        "\n",
        "    predicted = []\n",
        "\n",
        "    for test_row in range(len(self.X_test)):\n",
        "      dist_list=[]\n",
        "      for train_row in range(len(self.X_train)):\n",
        "        distances = self.eucledian(self.X_train[train_row] ,self.X_test[test_row])\n",
        "        dist_list.append(distances)\n",
        "      dist_list = np.array(dist_list)\n",
        "\n",
        "      dist = np.argsort(dist_list)[:self.neighbors]\n",
        "\n",
        "      target = self.y_train[dist]\n",
        "         \n",
        "      outcome = mode(target)\n",
        "      #y_hat_train=self.predict(self.X_train)\n",
        "\n",
        "      predicted.append(outcome.mode[0])\n",
        "    #print(predicted)\n",
        "    #print(y_test)\n",
        "    accuracy,precision,recall =self.evaluate(np.array(self.y_test, dtype=np.float64),np.array(predicted, dtype=np.float64))\n",
        "    print(\"Evaluate for Test data: \\n\")\n",
        "    print(\"Accuracy:\",np.round(accuracy,2))\n",
        "    print(\"Precision:\", np.round(precision,2))\n",
        "    print(\"Recall:\", np.round(recall,2))\n",
        "    return accuracy"
      ],
      "metadata": {
        "id": "guNsg61aqVN5"
      },
      "execution_count": 39,
      "outputs": []
    },
    {
      "cell_type": "code",
      "source": [
        "X_train,X_test,y_train,y_test=train_test_split(df_hcv_m.iloc[:,0:-1],df_hcv_m.iloc[:,-1],test_size=0.3,random_state=0)\n",
        "sc=Scaling(X_train, X_test, y_train,y_test)\n",
        "X_train=sc.train_test()\n",
        "X_test=sc.test()"
      ],
      "metadata": {
        "id": "7hbIj3IdzHm2"
      },
      "execution_count": 40,
      "outputs": []
    },
    {
      "cell_type": "code",
      "source": [
        "# KNN execution\n",
        "for i in range(10):\n",
        "  print('\\nNeighbours',i+1)\n",
        "  k=KNN(i+1,X_train,X_test,y_train,y_test)\n",
        "  k.runModel()"
      ],
      "metadata": {
        "colab": {
          "base_uri": "https://localhost:8080/"
        },
        "id": "M-aoxqVyqYYZ",
        "outputId": "a237423a-a42e-4332-c1d8-9828b5913c69"
      },
      "execution_count": 41,
      "outputs": [
        {
          "output_type": "stream",
          "name": "stdout",
          "text": [
            "\n",
            "Neighbours 1\n",
            "Evaluate for Test data: \n",
            "\n",
            "Accuracy: 0.53\n",
            "Precision: 0.54\n",
            "Recall: 0.56\n",
            "\n",
            "Neighbours 2\n",
            "Evaluate for Test data: \n",
            "\n",
            "Accuracy: 0.49\n",
            "Precision: 0.53\n",
            "Recall: 0.28\n",
            "\n",
            "Neighbours 3\n",
            "Evaluate for Test data: \n",
            "\n",
            "Accuracy: 0.5\n",
            "Precision: 0.52\n",
            "Recall: 0.53\n",
            "\n",
            "Neighbours 4\n",
            "Evaluate for Test data: \n",
            "\n",
            "Accuracy: 0.51\n",
            "Precision: 0.54\n",
            "Recall: 0.36\n",
            "\n",
            "Neighbours 5\n",
            "Evaluate for Test data: \n",
            "\n",
            "Accuracy: 0.52\n",
            "Precision: 0.54\n",
            "Recall: 0.52\n",
            "\n",
            "Neighbours 6\n",
            "Evaluate for Test data: \n",
            "\n",
            "Accuracy: 0.52\n",
            "Precision: 0.55\n",
            "Recall: 0.41\n",
            "\n",
            "Neighbours 7\n",
            "Evaluate for Test data: \n",
            "\n",
            "Accuracy: 0.51\n",
            "Precision: 0.53\n",
            "Recall: 0.57\n",
            "\n",
            "Neighbours 8\n",
            "Evaluate for Test data: \n",
            "\n",
            "Accuracy: 0.47\n",
            "Precision: 0.49\n",
            "Recall: 0.38\n",
            "\n",
            "Neighbours 9\n",
            "Evaluate for Test data: \n",
            "\n",
            "Accuracy: 0.5\n",
            "Precision: 0.52\n",
            "Recall: 0.52\n",
            "\n",
            "Neighbours 10\n",
            "Evaluate for Test data: \n",
            "\n",
            "Accuracy: 0.49\n",
            "Precision: 0.52\n",
            "Recall: 0.41\n"
          ]
        }
      ]
    }
  ]
}